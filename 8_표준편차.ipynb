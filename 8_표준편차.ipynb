{
 "cells": [
  {
   "cell_type": "markdown",
   "metadata": {},
   "source": [
    "### 표준편차는 자료의 산포도를 나타내는 수치로 분산의 양의 제곱근으로 정의합니다. 표준편차가 작을수록 평균값에서 변량들의 거리가 가깝습니다.\n",
    "\n",
    "$$\\sqrt{\\frac{\\sum_{k=1}^N (x_i - \\bar{x})^2}{n}}$$\n"
   ]
  },
  {
   "cell_type": "code",
   "execution_count": 3,
   "metadata": {},
   "outputs": [
    {
     "name": "stdout",
     "output_type": "stream",
     "text": [
      "표준편차를 계산할 데이터의 개수를 입력하세요.5\n",
      "[0, 0, 0, 0, 0]\n",
      "1번째 데이터 : 30\n",
      "2번째 데이터 : 90\n",
      "3번째 데이터 : 50\n",
      "4번째 데이터 : 20\n",
      "5번째 데이터 : 10\n",
      "[30, 90, 50, 20, 10]\n"
     ]
    }
   ],
   "source": [
    "# 표준편차를 계산할 데이터의 개수를 입력하고 입력받은 개수만큼 데이터를 입력받습니다.\n",
    "n = int(input('표준편차를 계산할 데이터의 개수를 입력하세요.'))\n",
    "score = [0 for i in range(n)]\n",
    "print(score)\n",
    "\n",
    "for i in range(n):\n",
    "    data = int(input('{}번째 데이터 : '.format(i+1)))\n",
    "    score[i] = data\n",
    "\n",
    "print(score)"
   ]
  },
  {
   "cell_type": "code",
   "execution_count": 5,
   "metadata": {},
   "outputs": [
    {
     "name": "stdout",
     "output_type": "stream",
     "text": [
      "[10, 20, 30, 50, 90]\n",
      "최소값 : 10, 최대값 : 90\n"
     ]
    }
   ],
   "source": [
    "# 입력받은 데이터를 오름차순 정렬합니다. -> 0번째 데이터가 최소값, 마지막 데이터가 최대값\n",
    "for i in range(len(score) - 1): # 0 ~ 3\n",
    "    for j in range(i + 1, len(score)): # 1 ~ 4 -> 2 ~ 4 -> 3 ~ 4 -> 4\n",
    "        if score[i] > score[j]:\n",
    "            score[i], score[j] = score[j], score[i]\n",
    "            \n",
    "print(score)\n",
    "print('최소값 : {}, 최대값 : {}'.format(score[0], score[len(score) - 1]))"
   ]
  },
  {
   "cell_type": "code",
   "execution_count": 6,
   "metadata": {},
   "outputs": [
    {
     "name": "stdout",
     "output_type": "stream",
     "text": [
      "5.773502691896258\n"
     ]
    }
   ],
   "source": [
    "total = 0\n",
    "for i in range(1, len(score) - 1):\n",
    "    total += score[i]\n",
    "var = total / (n-2)\n",
    "\n",
    "import math\n",
    "std = math.sqrt(var)\n",
    "print(std)"
   ]
  },
  {
   "cell_type": "code",
   "execution_count": null,
   "metadata": {},
   "outputs": [],
   "source": []
  }
 ],
 "metadata": {
  "kernelspec": {
   "display_name": "Python 3",
   "language": "python",
   "name": "python3"
  },
  "language_info": {
   "codemirror_mode": {
    "name": "ipython",
    "version": 3
   },
   "file_extension": ".py",
   "mimetype": "text/x-python",
   "name": "python",
   "nbconvert_exporter": "python",
   "pygments_lexer": "ipython3",
   "version": "3.8.5"
  }
 },
 "nbformat": 4,
 "nbformat_minor": 4
}

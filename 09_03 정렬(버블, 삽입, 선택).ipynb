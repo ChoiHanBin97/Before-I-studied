{
 "cells": [
  {
   "cell_type": "markdown",
   "metadata": {},
   "source": [
    "# 기본적인 정렬 알고리즘\n",
    "버블 정렬, 삽입 정렬 ,선택정령"
   ]
  },
  {
   "cell_type": "markdown",
   "metadata": {},
   "source": [
    "---\n",
    "# Bubble Sort (버블 정렬)\n",
    "\n",
    "주어진 N 개의 배열 에 대해에\n",
    "1. 인접한 두개의 데이터 비교 (a, b),\n",
    "1. a,b 크기가 반대이면 ‘값 교환’ (오름차순의 경우,  a > b 라면 교환),\n",
    "1. 배열끝까지 다다를때까지 1, 과 2, 반복\n",
    "1. (마지막 비교는 N-2  와 N-1 을 비교하게 됨),\n",
    "1. 위 3. 이 끝나면 맨 끝의 데이터는 가장 큰 값으로 될것이다.\n",
    "1. 이제 N 을 1감소하고  1. 부터 반복한다.  N = 1 이 될때까지\n",
    "\n",
    "![bubble](https://bournetocode.com/projects/GCSE_Computing_Fundamentals/pages/img/bubble_sort_pass.png)"
   ]
  },
  {
   "cell_type": "code",
   "execution_count": 1,
   "metadata": {},
   "outputs": [],
   "source": [
    "\"\"\"\n",
    "\n",
    "\n",
    "오름차순 -버블정렬\n",
    "[3, 2, 7, 5, 6]  (시작)\n",
    "[2, 3, 5, 6, 7]   cycle 1 종료후 (4번 비교)\n",
    "[2, 3, 5, 6]\n",
    "\n",
    "\"\"\"\n",
    "\n",
    "None"
   ]
  },
  {
   "cell_type": "code",
   "execution_count": 2,
   "metadata": {},
   "outputs": [
    {
     "data": {
      "text/plain": [
       "'\\n[11, 3, 28, 43, 9, 4] (시작)\\n[3, 11, 28, 9, 4, 43] cycle 1 후\\n[3, 11, 9, 4, 28, 43] cycle 2 후\\n[3, 9, 4, 11, 28, 43] cycle 3 후 \\n[3, 4, 9, 11, 28, 43] cycle 4 후\\n[3, 4, 9, 11, 28, 43] cycle 5 후\\n\\n'"
      ]
     },
     "execution_count": 2,
     "metadata": {},
     "output_type": "execute_result"
    }
   ],
   "source": [
    "\"\"\"\n",
    "[11, 3, 28, 43, 9, 4] (시작)\n",
    "[3, 11, 28, 9, 4, 43] cycle 1 후\n",
    "[3, 11, 9, 4, 28, 43] cycle 2 후\n",
    "[3, 9, 4, 11, 28, 43] cycle 3 후 \n",
    "[3, 4, 9, 11, 28, 43] cycle 4 후\n",
    "[3, 4, 9, 11, 28, 43] cycle 5 후\n",
    "\n",
    "\"\"\"\n"
   ]
  },
  {
   "cell_type": "code",
   "execution_count": 3,
   "metadata": {},
   "outputs": [
    {
     "data": {
      "text/plain": [
       "[3, 4, 9, 11, 28, 43]"
      ]
     },
     "execution_count": 3,
     "metadata": {},
     "output_type": "execute_result"
    }
   ],
   "source": [
    "# 정렬이 안된 데이터(seq)를 받아서\n",
    "# 정렬시킨 결과를 리턴\n",
    "def bubble_sort(seq):\n",
    "    length = len(seq) - 1\n",
    "    for num in range(length, 0, -1):    # cycle 횟수\n",
    "        for i in range(num):   # 비교 횟수\n",
    "            if seq[i] > seq[i + 1]:    # 왼쪽이 오른쪽보다 크면 자리바꿈   # <<데이터 비교>>\n",
    "                seq[i], seq[i + 1] = seq[i + 1], seq[i]    # <<데이터 이동>>\n",
    "        # print(seq)    # 중간과정 출력\n",
    "    return seq\n",
    "# 성능에 영향을 주는 것은 데이터를 비교하는 것과 데이터를 이동하는 것.\n",
    "\n",
    "\n",
    "\n",
    "# 테스트\n",
    "seq = [11, 3, 28, 43, 9, 4]\n",
    "bubble_sort(seq)"
   ]
  },
  {
   "cell_type": "markdown",
   "metadata": {},
   "source": [
    "## 성능 - 버블 정렬"
   ]
  },
  {
   "cell_type": "code",
   "execution_count": 4,
   "metadata": {},
   "outputs": [],
   "source": [
    "import time\n",
    "from datetime import timedelta\n",
    "import random\n",
    "import copy    # deepcopy"
   ]
  },
  {
   "cell_type": "markdown",
   "metadata": {},
   "source": [
    "## 샘플 데이터 작성 도우미 함수들"
   ]
  },
  {
   "cell_type": "code",
   "execution_count": 16,
   "metadata": {},
   "outputs": [],
   "source": [
    "# 랜덤으로 리스트 작성\n",
    "def gen_rand(num):\n",
    "    data = [i for i in range(num)]\n",
    "    random.shuffle(data)\n",
    "    return data\n",
    "\n",
    "# 오름차순 리스트 작성\n",
    "def gen_asc(num):\n",
    "    return [ i for i in range(num)]\n",
    "\n",
    "# 내림차순 리스트 작성\n",
    "def gen_desc(num):\n",
    "    return [i for i in range(num, 0, -1)]\n",
    "\n",
    "# sort 함수와 data 정렬 성능 체크\n",
    "def test_sort(sort, data, title):\n",
    "    start_time = time.time()\n",
    "    result = sort(data)\n",
    "    end_time = time.time()\n",
    "    elapsed_time = end_time - start_time\n",
    "    print(\"%s: size = %d 경과시간 %s\" % (title, len(data), str(timedelta(seconds=elapsed_time))))\n",
    "    return result\n",
    "\n",
    "# 특정 사이트의 배열과  times번 sort 수행\n",
    "def test_ntimes_sort(sort, size, times, title):\n",
    "    genData = gen_rand(size)    # 정렬을 수행할 원본데이터\n",
    "    for i in range(times):\n",
    "        data = copy.deepcopy(genData)   # 사본을 만들어 정렬 수행\n",
    "        test_sort(sort, data, (\"%d차:\" % (i + 1)) + title)\n",
    "        \n",
    "# 오름차순 배열과  times번 sort 수행\n",
    "def test_ntimes_sort2(sort, size, times, title):\n",
    "    genData = gen_asc(size)    # 정렬을 수행할 원본데이터\n",
    "    for i in range(times):\n",
    "        data = copy.deepcopy(genData)   # 사본을 만들어 정렬 수행\n",
    "        test_sort(sort, data, (\"%d차:\" % (i + 1)) + title)\n",
    "        \n",
    "# 내림차순 배열과  times번 sort 수행\n",
    "def test_ntimes_sort3(sort, size, times, title):\n",
    "    genData = gen_desc(size)    # 정렬을 수행할 원본데이터\n",
    "    for i in range(times):\n",
    "        data = copy.deepcopy(genData)   # 사본을 만들어 정렬 수행\n",
    "        test_sort(sort, data, (\"%d차:\" % (i + 1)) + title)"
   ]
  },
  {
   "cell_type": "code",
   "execution_count": 6,
   "metadata": {
    "scrolled": true
   },
   "outputs": [
    {
     "data": {
      "text/plain": [
       "([8, 4, 7, 5, 6, 0, 9, 1, 2, 3],\n",
       " [0, 1, 2, 3, 4, 5, 6, 7, 8, 9],\n",
       " [10, 9, 8, 7, 6, 5, 4, 3, 2, 1])"
      ]
     },
     "execution_count": 6,
     "metadata": {},
     "output_type": "execute_result"
    }
   ],
   "source": [
    "gen_rand(10), gen_asc(10), gen_desc(10)"
   ]
  },
  {
   "cell_type": "code",
   "execution_count": 7,
   "metadata": {},
   "outputs": [
    {
     "name": "stdout",
     "output_type": "stream",
     "text": [
      "버블 100개: size = 100 경과시간 0:00:00\n"
     ]
    },
    {
     "data": {
      "text/plain": [
       "[0,\n",
       " 1,\n",
       " 2,\n",
       " 3,\n",
       " 4,\n",
       " 5,\n",
       " 6,\n",
       " 7,\n",
       " 8,\n",
       " 9,\n",
       " 10,\n",
       " 11,\n",
       " 12,\n",
       " 13,\n",
       " 14,\n",
       " 15,\n",
       " 16,\n",
       " 17,\n",
       " 18,\n",
       " 19,\n",
       " 20,\n",
       " 21,\n",
       " 22,\n",
       " 23,\n",
       " 24,\n",
       " 25,\n",
       " 26,\n",
       " 27,\n",
       " 28,\n",
       " 29,\n",
       " 30,\n",
       " 31,\n",
       " 32,\n",
       " 33,\n",
       " 34,\n",
       " 35,\n",
       " 36,\n",
       " 37,\n",
       " 38,\n",
       " 39,\n",
       " 40,\n",
       " 41,\n",
       " 42,\n",
       " 43,\n",
       " 44,\n",
       " 45,\n",
       " 46,\n",
       " 47,\n",
       " 48,\n",
       " 49,\n",
       " 50,\n",
       " 51,\n",
       " 52,\n",
       " 53,\n",
       " 54,\n",
       " 55,\n",
       " 56,\n",
       " 57,\n",
       " 58,\n",
       " 59,\n",
       " 60,\n",
       " 61,\n",
       " 62,\n",
       " 63,\n",
       " 64,\n",
       " 65,\n",
       " 66,\n",
       " 67,\n",
       " 68,\n",
       " 69,\n",
       " 70,\n",
       " 71,\n",
       " 72,\n",
       " 73,\n",
       " 74,\n",
       " 75,\n",
       " 76,\n",
       " 77,\n",
       " 78,\n",
       " 79,\n",
       " 80,\n",
       " 81,\n",
       " 82,\n",
       " 83,\n",
       " 84,\n",
       " 85,\n",
       " 86,\n",
       " 87,\n",
       " 88,\n",
       " 89,\n",
       " 90,\n",
       " 91,\n",
       " 92,\n",
       " 93,\n",
       " 94,\n",
       " 95,\n",
       " 96,\n",
       " 97,\n",
       " 98,\n",
       " 99]"
      ]
     },
     "execution_count": 7,
     "metadata": {},
     "output_type": "execute_result"
    }
   ],
   "source": [
    "test_sort(bubble_sort, gen_rand(100), \"버블 100개\")"
   ]
  },
  {
   "cell_type": "code",
   "execution_count": 8,
   "metadata": {},
   "outputs": [
    {
     "name": "stdout",
     "output_type": "stream",
     "text": [
      "1차:버블: size = 100 경과시간 0:00:00.000997\n",
      "2차:버블: size = 100 경과시간 0:00:00\n",
      "3차:버블: size = 100 경과시간 0:00:00.000998\n",
      "4차:버블: size = 100 경과시간 0:00:00.001045\n",
      "5차:버블: size = 100 경과시간 0:00:00\n"
     ]
    }
   ],
   "source": [
    "test_ntimes_sort(bubble_sort, 100, 5, \"버블\")"
   ]
  },
  {
   "cell_type": "code",
   "execution_count": 9,
   "metadata": {},
   "outputs": [
    {
     "name": "stdout",
     "output_type": "stream",
     "text": [
      "1차:버블1000: size = 1000 경과시간 0:00:00.059958\n",
      "2차:버블1000: size = 1000 경과시간 0:00:00.046892\n",
      "3차:버블1000: size = 1000 경과시간 0:00:00.062485\n",
      "4차:버블1000: size = 1000 경과시간 0:00:00.067965\n",
      "5차:버블1000: size = 1000 경과시간 0:00:00.058844\n",
      "\n",
      "1차:버블2000: size = 2000 경과시간 0:00:00.251329\n",
      "2차:버블2000: size = 2000 경과시간 0:00:00.249334\n",
      "3차:버블2000: size = 2000 경과시간 0:00:00.251329\n",
      "4차:버블2000: size = 2000 경과시간 0:00:00.251327\n",
      "5차:버블2000: size = 2000 경과시간 0:00:00.250328\n",
      "\n",
      "1차:버블4000: size = 4000 경과시간 0:00:00.993946\n",
      "2차:버블4000: size = 4000 경과시간 0:00:01.001011\n",
      "3차:버블4000: size = 4000 경과시간 0:00:01.006281\n",
      "4차:버블4000: size = 4000 경과시간 0:00:01.007805\n",
      "5차:버블4000: size = 4000 경과시간 0:00:00.996366\n",
      "\n",
      "1차:버블8000: size = 8000 경과시간 0:00:03.954857\n",
      "2차:버블8000: size = 8000 경과시간 0:00:04.011329\n",
      "3차:버블8000: size = 8000 경과시간 0:00:04.018709\n",
      "4차:버블8000: size = 8000 경과시간 0:00:04.019987\n",
      "5차:버블8000: size = 8000 경과시간 0:00:03.932772\n",
      "\n",
      "종료\n"
     ]
    }
   ],
   "source": [
    "num = 1000\n",
    "for i in range(4):\n",
    "    test_ntimes_sort(bubble_sort, num, 5, \"버블%d\" % (num))\n",
    "    print()\n",
    "    num *= 2\n",
    "    \n",
    "print(\"종료\")"
   ]
  },
  {
   "cell_type": "markdown",
   "metadata": {},
   "source": [
    "#  어떠한 operation 이 시간에 영향을 주나?\n",
    "## 1. 데이터 비교\n",
    "## 2. 데이터 이동\n",
    "\n",
    "위 버블 정렬에서 \n",
    "1. 언제 데이터의 비교가 발생하고?\n",
    "1. 언제 데이터의 이동이 발생하는가?"
   ]
  },
  {
   "cell_type": "code",
   "execution_count": 18,
   "metadata": {},
   "outputs": [
    {
     "name": "stdout",
     "output_type": "stream",
     "text": [
      "1차:내림차순: size = 2000 경과시간 0:00:00.363444\n",
      "2차:내림차순: size = 2000 경과시간 0:00:00.351359\n",
      "3차:내림차순: size = 2000 경과시간 0:00:00.352967\n",
      "4차:내림차순: size = 2000 경과시간 0:00:00.371233\n",
      "5차:내림차순: size = 2000 경과시간 0:00:00.341098\n"
     ]
    }
   ],
   "source": [
    "# 내림차순 (worst case)\n",
    "test_ntimes_sort3(bubble_sort, 2000, 5, \"내림차순\")"
   ]
  },
  {
   "cell_type": "code",
   "execution_count": 14,
   "metadata": {
    "scrolled": true
   },
   "outputs": [
    {
     "name": "stdout",
     "output_type": "stream",
     "text": [
      "1차:오름차순: size = 2000 경과시간 0:00:00.117582\n",
      "2차:오름차순: size = 2000 경과시간 0:00:00.124326\n",
      "3차:오름차순: size = 2000 경과시간 0:00:00.109349\n",
      "4차:오름차순: size = 2000 경과시간 0:00:00.119171\n",
      "5차:오름차순: size = 2000 경과시간 0:00:00.109351\n"
     ]
    }
   ],
   "source": [
    "# 오름차순 (best case)\n",
    "test_ntimes_sort2(bubble_sort, 2000, 5, \"오름차순\")"
   ]
  },
  {
   "cell_type": "code",
   "execution_count": 11,
   "metadata": {
    "scrolled": true
   },
   "outputs": [
    {
     "name": "stdout",
     "output_type": "stream",
     "text": [
      "1차:버블: size = 2000 경과시간 0:00:00.230524\n",
      "2차:버블: size = 2000 경과시간 0:00:00.234321\n",
      "3차:버블: size = 2000 경과시간 0:00:00.238896\n",
      "4차:버블: size = 2000 경과시간 0:00:00.241568\n",
      "5차:버블: size = 2000 경과시간 0:00:00.237014\n"
     ]
    }
   ],
   "source": [
    "# 랜덤\n",
    "test_ntimes_sort(bubble_sort, 2000, 5, \"버블\")"
   ]
  },
  {
   "cell_type": "markdown",
   "metadata": {},
   "source": [
    "---\n",
    "# Selection Sort 선택정렬\n",
    "주어진 N 개의 배열,  그리고  i = 0 일때\n",
    "\n",
    "\n",
    "1. i...N−1 범위에서 ‘가장 작은 값의 위치 min_idx‘ 를 찾아 **선택**한다\n",
    "1. 위에서 **선택**한 min_idx 번째 와 i 번째 의 데이터 교환\n",
    "1. i 은 1 증가,   그리고 step1. 부터 반복,  (i = N-2 이 될때까지!)\n",
    "\n",
    "![선택](https://dojinkimm.github.io/assets/imgs/cs/selection_sort.jpg)\n"
   ]
  },
  {
   "cell_type": "code",
   "execution_count": 19,
   "metadata": {},
   "outputs": [
    {
     "data": {
      "text/plain": [
       "'\\n[연습]\\n\\n[11. 3. 28. 43. 9. 4]\\n[3, 11, 28, 43, 9, 4]\\n[3, 4, 28, 43, 9, 11]\\n[3, 4, 9, 43, 28, 11]\\n[3, 4, 9, 11, 28, 43]\\n[3, 4, 9, 11, 28, 43]\\n\\n'"
      ]
     },
     "execution_count": 19,
     "metadata": {},
     "output_type": "execute_result"
    }
   ],
   "source": [
    "\"\"\"\n",
    "[29, 10, 14, 37, 13]\n",
    "[10, 29, 14, 37, 13]\n",
    "[10, 13, 14, 37, 29]\n",
    "[10, 13, 14, 37, 29]\n",
    "[10, 13, 14, 29, 37]\n",
    "\"\"\"\n",
    "\n",
    "\"\"\"\n",
    "[연습]\n",
    "\n",
    "[11. 3. 28. 43. 9. 4]\n",
    "[3, 11, 28, 43, 9, 4]\n",
    "[3, 4, 28, 43, 9, 11]\n",
    "[3, 4, 9, 43, 28, 11]\n",
    "[3, 4, 9, 11, 28, 43]\n",
    "[3, 4, 9, 11, 28, 43]\n",
    "\n",
    "\"\"\""
   ]
  },
  {
   "cell_type": "code",
   "execution_count": 22,
   "metadata": {},
   "outputs": [
    {
     "data": {
      "text/plain": [
       "[3, 4, 9, 11, 28, 43]"
      ]
     },
     "execution_count": 22,
     "metadata": {},
     "output_type": "execute_result"
    }
   ],
   "source": [
    "def selection_sort(seq):\n",
    "    N = len(seq)   # 데이터 개수\n",
    "    for i in range(N - 1):      # (N - 1)번의 사이클\n",
    "        # i번째 우측 (i + 1)부터 시작해서 우측에서 가장 최솟값을 찾는다.\n",
    "        # 최솟값의 위치를 (min_idx)를 '선택'하는 것이 목표다!\n",
    "        min_idx = i\n",
    "        for j in range(i + 1, N):\n",
    "            if seq[min_idx] > seq[j]:    # 더 작은 값이 등장하면 (비교)\n",
    "                min_idx = j     # 최솟값 갱신\n",
    "                \n",
    "        # 선택된 min_idx번째 데이터와 i번째 데이터 교환(이동)\n",
    "        seq[i], seq[min_idx] = seq[min_idx], seq[i]\n",
    "        # print(seq) # 중간과정 출력\n",
    "        \n",
    "    return seq\n",
    "\n",
    "seq = [11, 3, 28, 43, 9, 4]\n",
    "selection_sort(seq)"
   ]
  },
  {
   "cell_type": "markdown",
   "metadata": {},
   "source": [
    "## 성능 고찰\n",
    "- 랜덤, 오름차순, 내림차순에서 고른 성능"
   ]
  },
  {
   "cell_type": "code",
   "execution_count": 23,
   "metadata": {
    "scrolled": true
   },
   "outputs": [
    {
     "name": "stdout",
     "output_type": "stream",
     "text": [
      "1차:선택: size = 1000 경과시간 0:00:00.012073\n",
      "2차:선택: size = 1000 경과시간 0:00:00.037137\n",
      "3차:선택: size = 1000 경과시간 0:00:00.022941\n",
      "4차:선택: size = 1000 경과시간 0:00:00.008054\n",
      "5차:선택: size = 1000 경과시간 0:00:00.015622\n"
     ]
    }
   ],
   "source": [
    "test_ntimes_sort(selection_sort, 1000, 5, \"선택\")"
   ]
  },
  {
   "cell_type": "code",
   "execution_count": 26,
   "metadata": {
    "scrolled": true
   },
   "outputs": [
    {
     "name": "stdout",
     "output_type": "stream",
     "text": [
      "1차:오름차순: size = 1000 경과시간 0:00:00.027454\n",
      "2차:오름차순: size = 1000 경과시간 0:00:00.023910\n",
      "3차:오름차순: size = 1000 경과시간 0:00:00.023160\n",
      "4차:오름차순: size = 1000 경과시간 0:00:00.020687\n",
      "5차:오름차순: size = 1000 경과시간 0:00:00.015615\n"
     ]
    }
   ],
   "source": [
    "test_ntimes_sort2(selection_sort, 1000, 5, \"오름차순\")"
   ]
  },
  {
   "cell_type": "code",
   "execution_count": 25,
   "metadata": {
    "scrolled": true
   },
   "outputs": [
    {
     "name": "stdout",
     "output_type": "stream",
     "text": [
      "1차:내림차순: size = 1000 경과시간 0:00:00.025645\n",
      "2차:내림차순: size = 1000 경과시간 0:00:00.023963\n",
      "3차:내림차순: size = 1000 경과시간 0:00:00.023072\n",
      "4차:내림차순: size = 1000 경과시간 0:00:00.015650\n",
      "5차:내림차순: size = 1000 경과시간 0:00:00.031240\n"
     ]
    }
   ],
   "source": [
    "test_ntimes_sort3(selection_sort, 1000, 5, \"내림차순\")"
   ]
  },
  {
   "cell_type": "code",
   "execution_count": 27,
   "metadata": {},
   "outputs": [
    {
     "name": "stdout",
     "output_type": "stream",
     "text": [
      "1차:선택: size = 1000 경과시간 0:00:00.015624\n",
      "2차:선택: size = 1000 경과시간 0:00:00.031202\n",
      "3차:선택: size = 1000 경과시간 0:00:00.023934\n",
      "4차:선택: size = 1000 경과시간 0:00:00.009278\n",
      "5차:선택: size = 1000 경과시간 0:00:00.031276\n",
      "1차:선택: size = 2000 경과시간 0:00:00.093696\n",
      "2차:선택: size = 2000 경과시간 0:00:00.096597\n",
      "3차:선택: size = 2000 경과시간 0:00:00.077192\n",
      "4차:선택: size = 2000 경과시간 0:00:00.093727\n",
      "5차:선택: size = 2000 경과시간 0:00:00.093730\n",
      "1차:선택: size = 4000 경과시간 0:00:00.376602\n",
      "2차:선택: size = 4000 경과시간 0:00:00.365400\n",
      "3차:선택: size = 4000 경과시간 0:00:00.366015\n",
      "4차:선택: size = 4000 경과시간 0:00:00.365024\n",
      "5차:선택: size = 4000 경과시간 0:00:00.366102\n"
     ]
    }
   ],
   "source": [
    "test_ntimes_sort(selection_sort, 1000, 5, \"선택\")\n",
    "test_ntimes_sort(selection_sort, 2000, 5, \"선택\")\n",
    "test_ntimes_sort(selection_sort, 4000, 5, \"선택\")"
   ]
  },
  {
   "cell_type": "code",
   "execution_count": null,
   "metadata": {},
   "outputs": [],
   "source": []
  },
  {
   "cell_type": "markdown",
   "metadata": {},
   "source": [
    "---\n",
    "# Insertion Sort (삽입정렬)\n",
    "1. i = 1,   i 번째 ‘선택’  하고  i 번째 데이터를 임시 보관 → insData\n",
    "\n",
    "1. j 를 i 왼쪽부터 왼쪽으로 검색해감  j = 0 이 될때까지\n",
    "    - insData 보다  j번째 데이터 비교\n",
    "\t- j번째 데이터가 더 크면  j번째 데이터를 우측으로 이동\n",
    "    - 그렇지 않으면 step 2. 종료 → insData 가 삽입될 위치 발견\n",
    "\n",
    "1. step 2. 가 종료된 위치에 insData 삽입\n",
    "\n",
    "![삽입](https://dojinkimm.github.io/assets/imgs/cs/insertion_sort.png)"
   ]
  },
  {
   "cell_type": "code",
   "execution_count": 28,
   "metadata": {},
   "outputs": [],
   "source": [
    "\"\"\"\n",
    "[43, 13, 20, 8]   (시작) [1] 13 선택 [1] 왼쪽으로 13보다 같거나 작은것을 만날때까지 데이터들 우측으로 이동\n",
    "[13, 43, 20, 8]   (cycle1 종료후) [2] 20 선택\n",
    "[13, 20, 43, 8]   (cycle2 종료후) [3] 8 선택\n",
    "[8, 13, 20, 43]   (cycle3 종료후) \n",
    "\n",
    "[3, 11, 28, 43, 9, 4]\n",
    "[3, 11, 28, 43, 9, 4]\n",
    "[3, 11, 28, 43, 9, 4]\n",
    "[3, 11, 28, 43, 9, 4]\n",
    "[3, 9, 11, 28, 43, 4]\n",
    "[3, 4, 9, 11, 28, 43]\n",
    "\n",
    "\"\"\"\n",
    "None"
   ]
  },
  {
   "cell_type": "code",
   "execution_count": 35,
   "metadata": {},
   "outputs": [
    {
     "data": {
      "text/plain": [
       "[3, 4, 9, 11, 28, 43]"
      ]
     },
     "execution_count": 35,
     "metadata": {},
     "output_type": "execute_result"
    }
   ],
   "source": [
    "def insertion_sort(seq):\n",
    "    for i in range(1, len(seq)):    # 1부터 시작!\n",
    "        \n",
    "        insData = seq[i]    # i번째 데이터 선택, 나중에 위치 선정하면 그 자리에 '삽입'된다.\n",
    "        \n",
    "        j = i - 1    # j를 i 왼쪽부터 검색해나감.\n",
    "        \n",
    "        while j >= 0:\n",
    "            if seq[j] > insData:    # 삽입하려는 데이터보다 더 큰 것들은\n",
    "                seq[j + 1] = seq[j]    # 오른쪽으로 한칸씩 이동\n",
    "            else:\n",
    "                break\n",
    "                \n",
    "            j -= 1 \n",
    "            \n",
    "        # 끝난 j 위치의 바로 오른쪽이 insData가 삽입될 위치이다.\n",
    "        seq[j + 1] = insData\n",
    "        # print(seq)   # 중간과정 출력\n",
    "    \n",
    "    return seq\n",
    "\n",
    "seq = [11, 3, 28, 43, 9, 4]\n",
    "insertion_sort(seq)"
   ]
  },
  {
   "cell_type": "markdown",
   "metadata": {},
   "source": [
    "## 성능 고찰\n",
    "- 오름차순으로 되어 있는 데이터에선 거의 시간이 걸리지 않는다.  --> 0(n)에 가깝다."
   ]
  },
  {
   "cell_type": "code",
   "execution_count": 36,
   "metadata": {},
   "outputs": [
    {
     "name": "stdout",
     "output_type": "stream",
     "text": [
      "1차:선택: size = 1000 경과시간 0:00:00.039271\n",
      "2차:선택: size = 1000 경과시간 0:00:00.028491\n",
      "3차:선택: size = 1000 경과시간 0:00:00.026664\n",
      "4차:선택: size = 1000 경과시간 0:00:00.031214\n",
      "5차:선택: size = 1000 경과시간 0:00:00.034834\n",
      "1차:선택: size = 2000 경과시간 0:00:00.109349\n",
      "2차:선택: size = 2000 경과시간 0:00:00.093728\n",
      "3차:선택: size = 2000 경과시간 0:00:00.097722\n",
      "4차:선택: size = 2000 경과시간 0:00:00.109372\n",
      "5차:선택: size = 2000 경과시간 0:00:00.108642\n",
      "1차:선택: size = 4000 경과시간 0:00:00.460303\n",
      "2차:선택: size = 4000 경과시간 0:00:00.465052\n",
      "3차:선택: size = 4000 경과시간 0:00:00.449107\n",
      "4차:선택: size = 4000 경과시간 0:00:00.451806\n",
      "5차:선택: size = 4000 경과시간 0:00:00.447236\n"
     ]
    }
   ],
   "source": [
    "test_ntimes_sort(insertion_sort, 1000, 5, \"선택\")\n",
    "test_ntimes_sort(insertion_sort, 2000, 5, \"선택\")\n",
    "test_ntimes_sort(insertion_sort, 4000, 5, \"선택\")"
   ]
  },
  {
   "cell_type": "code",
   "execution_count": 47,
   "metadata": {
    "scrolled": true
   },
   "outputs": [
    {
     "name": "stdout",
     "output_type": "stream",
     "text": [
      "1차:선택: size = 4000 경과시간 0:00:00.446836\n",
      "2차:선택: size = 4000 경과시간 0:00:00.449893\n",
      "3차:선택: size = 4000 경과시간 0:00:00.471294\n",
      "4차:선택: size = 4000 경과시간 0:00:00.453384\n",
      "5차:선택: size = 4000 경과시간 0:00:00.463914\n"
     ]
    }
   ],
   "source": [
    "test_ntimes_sort(insertion_sort, 4000, 5, \"선택\")"
   ]
  },
  {
   "cell_type": "code",
   "execution_count": 48,
   "metadata": {
    "scrolled": true
   },
   "outputs": [
    {
     "name": "stdout",
     "output_type": "stream",
     "text": [
      "1차:오름차순: size = 4000 경과시간 0:00:00\n",
      "2차:오름차순: size = 4000 경과시간 0:00:00\n",
      "3차:오름차순: size = 4000 경과시간 0:00:00\n",
      "4차:오름차순: size = 4000 경과시간 0:00:00\n",
      "5차:오름차순: size = 4000 경과시간 0:00:00\n"
     ]
    }
   ],
   "source": [
    "test_ntimes_sort2(insertion_sort, 4000, 5, \"오름차순\")"
   ]
  },
  {
   "cell_type": "code",
   "execution_count": 49,
   "metadata": {
    "scrolled": true
   },
   "outputs": [
    {
     "name": "stdout",
     "output_type": "stream",
     "text": [
      "1차:내림차순: size = 4000 경과시간 0:00:00.863637\n",
      "2차:내림차순: size = 4000 경과시간 0:00:00.888784\n",
      "3차:내림차순: size = 4000 경과시간 0:00:00.862730\n",
      "4차:내림차순: size = 4000 경과시간 0:00:00.866346\n",
      "5차:내림차순: size = 4000 경과시간 0:00:00.874016\n"
     ]
    }
   ],
   "source": [
    "test_ntimes_sort3(insertion_sort, 4000, 5, \"내림차순\")"
   ]
  },
  {
   "cell_type": "code",
   "execution_count": null,
   "metadata": {},
   "outputs": [],
   "source": []
  },
  {
   "cell_type": "code",
   "execution_count": null,
   "metadata": {},
   "outputs": [],
   "source": []
  },
  {
   "cell_type": "code",
   "execution_count": null,
   "metadata": {},
   "outputs": [],
   "source": []
  },
  {
   "cell_type": "code",
   "execution_count": null,
   "metadata": {},
   "outputs": [],
   "source": []
  },
  {
   "cell_type": "code",
   "execution_count": null,
   "metadata": {},
   "outputs": [],
   "source": []
  },
  {
   "cell_type": "code",
   "execution_count": null,
   "metadata": {},
   "outputs": [],
   "source": []
  }
 ],
 "metadata": {
  "kernelspec": {
   "display_name": "Python 3",
   "language": "python",
   "name": "python3"
  },
  "language_info": {
   "codemirror_mode": {
    "name": "ipython",
    "version": 3
   },
   "file_extension": ".py",
   "mimetype": "text/x-python",
   "name": "python",
   "nbconvert_exporter": "python",
   "pygments_lexer": "ipython3",
   "version": "3.8.5"
  }
 },
 "nbformat": 4,
 "nbformat_minor": 2
}

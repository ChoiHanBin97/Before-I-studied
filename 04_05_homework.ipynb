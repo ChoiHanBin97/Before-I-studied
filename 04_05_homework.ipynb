{
 "cells": [
  {
   "cell_type": "markdown",
   "metadata": {},
   "source": [
    "#  네이버 실검"
   ]
  },
  {
   "cell_type": "code",
   "execution_count": 2,
   "metadata": {},
   "outputs": [],
   "source": [
    "\"\"\"\n",
    "\n",
    "2020.5 현재 \n",
    "검색어 필터 설정을 해주어야 한다\n",
    "\n",
    "개발자 도구-Network - XHR 필터링 한후 확인해보자.\n",
    "\n",
    "https://apis.naver.com/mobile_main/srchrank/srchrank?frm=main&ag=40s&gr=4&ma=2&si=2&en=2&sp=2\n",
    "\n",
    "https://apis.naver.com/mobile_main/srchrank/srchrank?frm=main\n",
    "&ag=40s\n",
    "&gr=4     묶어보기?\n",
    "&ma=2    이벤트할인?\n",
    "&si=2    시사?\n",
    "&en=2    엔터테인먼트?\n",
    "&sp=2    스포츠?\n",
    "\"\"\"\n",
    "\n",
    "\"\"\"\n",
    "답 예시\n",
    "\n",
    "['유현주',\n",
    " '진중권',\n",
    " '잠실 날씨',\n",
    " '이연희',\n",
    " '박지훈',\n",
    " '농협몰',\n",
    " '배선우',\n",
    " '밥블레스유 대창꼬치',\n",
    " '럭키 식당',\n",
    " '호랑이 선생님',\n",
    " '고성희',\n",
    " '굿걸',\n",
    " '스승의날 편지',\n",
    " '아내의 자격',\n",
    " '퀸 와사비',\n",
    " '뺑반',\n",
    " '버스터즈',\n",
    " '한명숙',\n",
    " '성분에디터',\n",
    " '한만호']\n",
    "\n",
    "\"\"\"\n",
    "\n",
    "None"
   ]
  },
  {
   "cell_type": "code",
   "execution_count": 2,
   "metadata": {},
   "outputs": [],
   "source": [
    "from bs4 import BeautifulSoup\n",
    "import requests"
   ]
  },
  {
   "cell_type": "code",
   "execution_count": 6,
   "metadata": {},
   "outputs": [
    {
     "data": {
      "text/plain": [
       "'https://apis.naver.com/mobile_main/srchrank/srchrank?frm=main&ag=20s&gr=4&ma=2&si=2&en=2&sp=2'"
      ]
     },
     "execution_count": 6,
     "metadata": {},
     "output_type": "execute_result"
    }
   ],
   "source": [
    "age = \"20s\"\n",
    "issues = \"4\"\n",
    "event = \"2\"\n",
    "social = \"2\"\n",
    "entertainment = \"2\"\n",
    "sports = \"2\"\n",
    "url = f\"https://apis.naver.com/mobile_main/srchrank/srchrank?frm=main&ag={age}&gr={issues}&ma={event}&si={social}&en={entertainment}&sp={sports}\"\n",
    "url"
   ]
  },
  {
   "cell_type": "code",
   "execution_count": 5,
   "metadata": {},
   "outputs": [
    {
     "data": {
      "text/plain": [
       "<Response [200]>"
      ]
     },
     "execution_count": 5,
     "metadata": {},
     "output_type": "execute_result"
    }
   ],
   "source": [
    "response = requests.get(url)\n",
    "response"
   ]
  },
  {
   "cell_type": "code",
   "execution_count": 10,
   "metadata": {},
   "outputs": [
    {
     "data": {
      "text/plain": [
       "{'ts': '2020-05-25T18:39:00+0900',\n",
       " 'sm': 'ag20sgrpmapsipenpspp',\n",
       " 'rop': [{'ag': '20s'},\n",
       "  {'gr': '04'},\n",
       "  {'ma': '02'},\n",
       "  {'si': '02'},\n",
       "  {'en': '02'},\n",
       "  {'sp': '02'}],\n",
       " 'data': [{'rank': 1,\n",
       "   'keyword': '이용수',\n",
       "   'keyword_synonyms': ['윤미향국회의원',\n",
       "    '이용수 할머니',\n",
       "    '이용수 할머니 기자회견',\n",
       "    '정대협',\n",
       "    '위안부',\n",
       "    '정신대 위안부',\n",
       "    '정신대']},\n",
       "  {'rank': 2, 'keyword': '속초붉은대게', 'keyword_synonyms': ['붉은대게']},\n",
       "  {'rank': 3, 'keyword': '쿠싱증후군', 'keyword_synonyms': ['이은하', '이은하나이']},\n",
       "  {'rank': 4, 'keyword': '동대문엽기떡볶이', 'keyword_synonyms': []},\n",
       "  {'rank': 5, 'keyword': '설국열차', 'keyword_synonyms': ['넷플릭스 설국열차']},\n",
       "  {'rank': 6, 'keyword': '강남구청', 'keyword_synonyms': []},\n",
       "  {'rank': 7, 'keyword': '아산 이마트', 'keyword_synonyms': []},\n",
       "  {'rank': 8, 'keyword': '서울시 자영업자 생존자금신청', 'keyword_synonyms': []},\n",
       "  {'rank': 9, 'keyword': '백현', 'keyword_synonyms': []},\n",
       "  {'rank': 10, 'keyword': '강서구 확진자', 'keyword_synonyms': []},\n",
       "  {'rank': 11, 'keyword': '플레디스', 'keyword_synonyms': ['빅히트']},\n",
       "  {'rank': 12, 'keyword': '야식남녀', 'keyword_synonyms': ['저녁 같이 드실래요?', '손나은']},\n",
       "  {'rank': 13, 'keyword': '카시나', 'keyword_synonyms': []},\n",
       "  {'rank': 14, 'keyword': '곽상도', 'keyword_synonyms': []},\n",
       "  {'rank': 15,\n",
       "   'keyword': '다중이용시설',\n",
       "   'keyword_synonyms': ['확진자 방문 다중이용시설 정보',\n",
       "    '확진자 방문 다중이용시설',\n",
       "    '확진자 다중이용시설 정보',\n",
       "    '확진자 다중이용시설',\n",
       "    '확진자 방문 다중시설',\n",
       "    '다중이용시설 정보',\n",
       "    '코로나 다중이용시설']},\n",
       "  {'rank': 16,\n",
       "   'keyword': '부러우면 지는거다',\n",
       "   'keyword_synonyms': ['최송현',\n",
       "    '송현',\n",
       "    '최송현 이재한',\n",
       "    '최송현 아빠',\n",
       "    '이재한',\n",
       "    '부러우면 지는거다 송현']},\n",
       "  {'rank': 17, 'keyword': '대구시 블로그', 'keyword_synonyms': []},\n",
       "  {'rank': 18,\n",
       "   'keyword': '6시내고향',\n",
       "   'keyword_synonyms': ['6시내고향 홈페이지',\n",
       "    '상생장터홈페이지',\n",
       "    '상생장터',\n",
       "    '내고향상생장터',\n",
       "    '6시내고향 상생장터감자']},\n",
       "  {'rank': 19, 'keyword': '구해줘 홈즈 남양주', 'keyword_synonyms': []},\n",
       "  {'rank': 20, 'keyword': '김상희', 'keyword_synonyms': []}]}"
      ]
     },
     "execution_count": 10,
     "metadata": {},
     "output_type": "execute_result"
    }
   ],
   "source": [
    "data = response.json()\n",
    "data"
   ]
  },
  {
   "cell_type": "code",
   "execution_count": 19,
   "metadata": {},
   "outputs": [
    {
     "data": {
      "text/plain": [
       "[{'rank': 1,\n",
       "  'keyword': '이용수',\n",
       "  'keyword_synonyms': ['윤미향국회의원',\n",
       "   '이용수 할머니',\n",
       "   '이용수 할머니 기자회견',\n",
       "   '정대협',\n",
       "   '위안부',\n",
       "   '정신대 위안부',\n",
       "   '정신대']},\n",
       " {'rank': 2, 'keyword': '속초붉은대게', 'keyword_synonyms': ['붉은대게']},\n",
       " {'rank': 3, 'keyword': '쿠싱증후군', 'keyword_synonyms': ['이은하', '이은하나이']},\n",
       " {'rank': 4, 'keyword': '동대문엽기떡볶이', 'keyword_synonyms': []},\n",
       " {'rank': 5, 'keyword': '설국열차', 'keyword_synonyms': ['넷플릭스 설국열차']},\n",
       " {'rank': 6, 'keyword': '강남구청', 'keyword_synonyms': []},\n",
       " {'rank': 7, 'keyword': '아산 이마트', 'keyword_synonyms': []},\n",
       " {'rank': 8, 'keyword': '서울시 자영업자 생존자금신청', 'keyword_synonyms': []},\n",
       " {'rank': 9, 'keyword': '백현', 'keyword_synonyms': []},\n",
       " {'rank': 10, 'keyword': '강서구 확진자', 'keyword_synonyms': []},\n",
       " {'rank': 11, 'keyword': '플레디스', 'keyword_synonyms': ['빅히트']},\n",
       " {'rank': 12, 'keyword': '야식남녀', 'keyword_synonyms': ['저녁 같이 드실래요?', '손나은']},\n",
       " {'rank': 13, 'keyword': '카시나', 'keyword_synonyms': []},\n",
       " {'rank': 14, 'keyword': '곽상도', 'keyword_synonyms': []},\n",
       " {'rank': 15,\n",
       "  'keyword': '다중이용시설',\n",
       "  'keyword_synonyms': ['확진자 방문 다중이용시설 정보',\n",
       "   '확진자 방문 다중이용시설',\n",
       "   '확진자 다중이용시설 정보',\n",
       "   '확진자 다중이용시설',\n",
       "   '확진자 방문 다중시설',\n",
       "   '다중이용시설 정보',\n",
       "   '코로나 다중이용시설']},\n",
       " {'rank': 16,\n",
       "  'keyword': '부러우면 지는거다',\n",
       "  'keyword_synonyms': ['최송현',\n",
       "   '송현',\n",
       "   '최송현 이재한',\n",
       "   '최송현 아빠',\n",
       "   '이재한',\n",
       "   '부러우면 지는거다 송현']},\n",
       " {'rank': 17, 'keyword': '대구시 블로그', 'keyword_synonyms': []},\n",
       " {'rank': 18,\n",
       "  'keyword': '6시내고향',\n",
       "  'keyword_synonyms': ['6시내고향 홈페이지',\n",
       "   '상생장터홈페이지',\n",
       "   '상생장터',\n",
       "   '내고향상생장터',\n",
       "   '6시내고향 상생장터감자']},\n",
       " {'rank': 19, 'keyword': '구해줘 홈즈 남양주', 'keyword_synonyms': []},\n",
       " {'rank': 20, 'keyword': '김상희', 'keyword_synonyms': []}]"
      ]
     },
     "execution_count": 19,
     "metadata": {},
     "output_type": "execute_result"
    }
   ],
   "source": [
    "items = data[\"data\"]\n",
    "items"
   ]
  },
  {
   "cell_type": "code",
   "execution_count": 20,
   "metadata": {},
   "outputs": [
    {
     "data": {
      "text/plain": [
       "['이용수',\n",
       " '속초붉은대게',\n",
       " '쿠싱증후군',\n",
       " '동대문엽기떡볶이',\n",
       " '설국열차',\n",
       " '강남구청',\n",
       " '아산 이마트',\n",
       " '서울시 자영업자 생존자금신청',\n",
       " '백현',\n",
       " '강서구 확진자',\n",
       " '플레디스',\n",
       " '야식남녀',\n",
       " '카시나',\n",
       " '곽상도',\n",
       " '다중이용시설',\n",
       " '부러우면 지는거다',\n",
       " '대구시 블로그',\n",
       " '6시내고향',\n",
       " '구해줘 홈즈 남양주',\n",
       " '김상희']"
      ]
     },
     "execution_count": 20,
     "metadata": {},
     "output_type": "execute_result"
    }
   ],
   "source": [
    "result = [\n",
    "    item[\"keyword\"]\n",
    "    for item in items\n",
    "]\n",
    "result"
   ]
  },
  {
   "cell_type": "markdown",
   "metadata": {},
   "source": [
    "# 완성 코드"
   ]
  },
  {
   "cell_type": "code",
   "execution_count": 24,
   "metadata": {},
   "outputs": [
    {
     "data": {
      "text/plain": [
       "['속초붉은대게',\n",
       " '엽기떡볶이개포동역점',\n",
       " '이용수',\n",
       " '약쿠르트',\n",
       " '동대문엽기떡볶이',\n",
       " '강정호',\n",
       " '설국열차',\n",
       " '강서구 확진자',\n",
       " '백현',\n",
       " '서울시 자영업자 생존자금신청',\n",
       " '강남구청',\n",
       " '야식남녀',\n",
       " '문호준',\n",
       " '김우석',\n",
       " '속초몰',\n",
       " '아산 이마트',\n",
       " '플레디스',\n",
       " '곽상도',\n",
       " '부러우면 지는거다',\n",
       " '토르']"
      ]
     },
     "execution_count": 24,
     "metadata": {},
     "output_type": "execute_result"
    }
   ],
   "source": [
    "from bs4 import BeautifulSoup\n",
    "import requests\n",
    "ag = \"20s\"\n",
    "gr = \"4\"\n",
    "ma = \"2\"\n",
    "si = \"2\"\n",
    "en = \"2\"\n",
    "sp = \"2\"\n",
    "url = f\"https://apis.naver.com/mobile_main/srchrank/srchrank?frm=main&ag={ag}&gr={gr}&ma={ma}&si={si}&en={en}&sp={sp}\"\n",
    "response = requests.get(url)\n",
    "data = response.json()\n",
    "items = data[\"data\"]\n",
    "result = [\n",
    "    item[\"keyword\"]\n",
    "    for item in items\n",
    "]\n",
    "result"
   ]
  },
  {
   "cell_type": "code",
   "execution_count": null,
   "metadata": {},
   "outputs": [],
   "source": []
  }
 ],
 "metadata": {
  "kernelspec": {
   "display_name": "Python 3",
   "language": "python",
   "name": "python3"
  },
  "language_info": {
   "codemirror_mode": {
    "name": "ipython",
    "version": 3
   },
   "file_extension": ".py",
   "mimetype": "text/x-python",
   "name": "python",
   "nbconvert_exporter": "python",
   "pygments_lexer": "ipython3",
   "version": "3.7.4"
  }
 },
 "nbformat": 4,
 "nbformat_minor": 2
}

{
 "cells": [
  {
   "cell_type": "markdown",
   "metadata": {},
   "source": [
    "# 파일 다운로드\n",
    "이미지, 동영상, 파일 ..."
   ]
  },
  {
   "cell_type": "markdown",
   "metadata": {},
   "source": [
    "## download 폴더를 만들어서 진행"
   ]
  },
  {
   "cell_type": "code",
   "execution_count": 4,
   "metadata": {},
   "outputs": [
    {
     "name": "stdout",
     "output_type": "stream",
     "text": [
      "Directory download already exists\n"
     ]
    }
   ],
   "source": [
    "import os\n",
    "dirName = \"download\"\n",
    "\n",
    "if not os.path.exists(dirName):\n",
    "    os.mkdir(dirName)\n",
    "    print(\"Directory\", dirName, \"Created\")\n",
    "else: print(\"Directory\", dirName, \"already exists\")"
   ]
  },
  {
   "cell_type": "markdown",
   "metadata": {},
   "source": [
    "### 다운로드 해볼 예제 소스"
   ]
  },
  {
   "cell_type": "code",
   "execution_count": 6,
   "metadata": {},
   "outputs": [],
   "source": [
    " # 예제에 사용한 미디어 출처\n",
    " #  https://www.w3schools.com/html/html5_video.asp\n",
    " #  https://www.w3schools.com/html/html5_audio.asp\n",
    " #  https://www.w3schools.com/howto/howto_css_fullscreen_video.asp\n",
    " \n",
    " # 예제에 사용한 이미지 출처\n",
    " # \thttps://www.w3schools.com/css/css_image_gallery.asp"
   ]
  },
  {
   "cell_type": "code",
   "execution_count": 5,
   "metadata": {},
   "outputs": [],
   "source": [
    "# URL 에 파일명이 있는 형태\n",
    "imgUrls = [\n",
    "    \"https://www.w3schools.com/css/img_5terre.jpg\",\n",
    "    \"https://www.w3schools.com/css/img_forest.jpg\", \n",
    "    \"https://www.w3schools.com/css/img_lights.jpg\",\n",
    "    \"https://www.w3schools.com/css/img_mountains.jpg\"\n",
    "]\n",
    "\n",
    "movUrls = [\n",
    "    \"https://www.w3schools.com/html/movie.mp4\",   # 영상\n",
    "    \"https://www.w3schools.com/howto/rain.mp4\",\n",
    "    \"https://www.w3schools.com/html/mov_bbb.mp4\",\n",
    "    \"https://www.w3schools.com/html/horse.ogg\"    # 음성   \n",
    "]"
   ]
  },
  {
   "cell_type": "code",
   "execution_count": 7,
   "metadata": {},
   "outputs": [],
   "source": [
    "import requests"
   ]
  },
  {
   "cell_type": "code",
   "execution_count": 10,
   "metadata": {},
   "outputs": [
    {
     "data": {
      "text/plain": [
       "<Response [200]>"
      ]
     },
     "execution_count": 10,
     "metadata": {},
     "output_type": "execute_result"
    }
   ],
   "source": [
    "# 이미지와 같은 이진데이터를  request 할 때에는 streem=True 옵션 주기\n",
    "response = requests.get(imgUrls[0], stream=True)\n",
    "response"
   ]
  },
  {
   "cell_type": "code",
   "execution_count": null,
   "metadata": {},
   "outputs": [],
   "source": [
    "# response.text # 이진데이터(binary data)는 .text로 볼 수 없다."
   ]
  },
  {
   "cell_type": "code",
   "execution_count": 12,
   "metadata": {},
   "outputs": [
    {
     "data": {
      "text/plain": [
       "149372"
      ]
     },
     "execution_count": 12,
     "metadata": {},
     "output_type": "execute_result"
    }
   ],
   "source": [
    "response.content   # 이진 파일 데이터\n",
    "len(response.content)   # 용량 byte"
   ]
  },
  {
   "cell_type": "code",
   "execution_count": 13,
   "metadata": {},
   "outputs": [],
   "source": [
    "if response.status_code == 200:\n",
    "    with open(f\"./{dirName}/test.jpg\", \"wb\") as f:\n",
    "        f.write(response.content)"
   ]
  },
  {
   "cell_type": "markdown",
   "metadata": {},
   "source": [
    "## URL에 파일 이름이 있다면 그 이름으로 다운로드 받기"
   ]
  },
  {
   "cell_type": "code",
   "execution_count": 14,
   "metadata": {},
   "outputs": [],
   "source": [
    "import urllib.parse as urlparser"
   ]
  },
  {
   "cell_type": "markdown",
   "metadata": {},
   "source": [
    "#### urlparse() 함수"
   ]
  },
  {
   "cell_type": "code",
   "execution_count": 17,
   "metadata": {},
   "outputs": [
    {
     "data": {
      "text/plain": [
       "ParseResult(scheme='https', netloc='www.w3schools.com', path='/css/img_5terre.jpg', params='', query='', fragment='')"
      ]
     },
     "execution_count": 17,
     "metadata": {},
     "output_type": "execute_result"
    }
   ],
   "source": [
    "url = imgUrls[0]\n",
    "disassembled = urlparser.urlparse(url)\n",
    "disassembled"
   ]
  },
  {
   "cell_type": "code",
   "execution_count": 21,
   "metadata": {},
   "outputs": [
    {
     "data": {
      "text/plain": [
       "'www.w3schools.com'"
      ]
     },
     "execution_count": 21,
     "metadata": {},
     "output_type": "execute_result"
    }
   ],
   "source": [
    "disassembled.shceme"
   ]
  },
  {
   "cell_type": "code",
   "execution_count": null,
   "metadata": {},
   "outputs": [],
   "source": [
    "disassembled.netloc"
   ]
  },
  {
   "cell_type": "code",
   "execution_count": 22,
   "metadata": {},
   "outputs": [
    {
     "data": {
      "text/plain": [
       "'/css/img_5terre.jpg'"
      ]
     },
     "execution_count": 22,
     "metadata": {},
     "output_type": "execute_result"
    }
   ],
   "source": [
    "disassembled.path"
   ]
  },
  {
   "cell_type": "markdown",
   "metadata": {},
   "source": [
    "#### os.path를 사용하여 경로에서 파일명 분리."
   ]
  },
  {
   "cell_type": "code",
   "execution_count": 24,
   "metadata": {},
   "outputs": [],
   "source": [
    "from os.path import basename, splitext, split"
   ]
  },
  {
   "cell_type": "code",
   "execution_count": 29,
   "metadata": {},
   "outputs": [
    {
     "data": {
      "text/plain": [
       "'img_5terre.jpg'"
      ]
     },
     "execution_count": 29,
     "metadata": {},
     "output_type": "execute_result"
    }
   ],
   "source": [
    "filename = basename(disassembled.path)\n",
    "filename"
   ]
  },
  {
   "cell_type": "code",
   "execution_count": 30,
   "metadata": {},
   "outputs": [
    {
     "data": {
      "text/plain": [
       "('img_5terre', '.jpg')"
      ]
     },
     "execution_count": 30,
     "metadata": {},
     "output_type": "execute_result"
    }
   ],
   "source": [
    "splitext(filename)  # 파일 명과 확장자 분리"
   ]
  },
  {
   "cell_type": "code",
   "execution_count": 31,
   "metadata": {},
   "outputs": [
    {
     "ename": "NameError",
     "evalue": "name 'disassemble' is not defined",
     "output_type": "error",
     "traceback": [
      "\u001b[1;31m---------------------------------------------------------------------------\u001b[0m",
      "\u001b[1;31mNameError\u001b[0m                                 Traceback (most recent call last)",
      "\u001b[1;32m<ipython-input-31-af0770f78453>\u001b[0m in \u001b[0;36m<module>\u001b[1;34m\u001b[0m\n\u001b[1;32m----> 1\u001b[1;33m \u001b[0msplit\u001b[0m\u001b[1;33m(\u001b[0m\u001b[0mdisassemble\u001b[0m\u001b[1;33m.\u001b[0m\u001b[0mpath\u001b[0m\u001b[1;33m)\u001b[0m\u001b[1;33m\u001b[0m\u001b[1;33m\u001b[0m\u001b[0m\n\u001b[0m",
      "\u001b[1;31mNameError\u001b[0m: name 'disassemble' is not defined"
     ]
    }
   ],
   "source": [
    "split(disassemble.path)   # path와 파일이 분리된다."
   ]
  },
  {
   "cell_type": "code",
   "execution_count": 32,
   "metadata": {},
   "outputs": [],
   "source": [
    "with open(f'./download/{filename}', 'wb') as f:\n",
    "          f.write(response.content)"
   ]
  },
  {
   "cell_type": "markdown",
   "metadata": {},
   "source": [
    "### jupyter notebook에서 이미지 확인 가능"
   ]
  },
  {
   "cell_type": "code",
   "execution_count": 43,
   "metadata": {},
   "outputs": [],
   "source": [
    "from IPython.display import Image"
   ]
  },
  {
   "cell_type": "markdown",
   "metadata": {},
   "source": [
    "# imgUrl, movUrl 다운로드하기"
   ]
  },
  {
   "cell_type": "code",
   "execution_count": 40,
   "metadata": {
    "scrolled": true
   },
   "outputs": [
    {
     "name": "stdout",
     "output_type": "stream",
     "text": [
      "다운로드: https://www.w3schools.com/html/movie.mp4 -> movie.mp4\n",
      "다운로드: https://www.w3schools.com/howto/rain.mp4 -> rain.mp4\n",
      "다운로드: https://www.w3schools.com/html/mov_bbb.mp4 -> mov_bbb.mp4\n",
      "다운로드: https://www.w3schools.com/html/horse.ogg -> horse.ogg\n",
      "다운로드: https://www.w3schools.com/css/img_5terre.jpg -> img_5terre.jpg\n",
      "다운로드: https://www.w3schools.com/css/img_forest.jpg -> img_forest.jpg\n",
      "다운로드: https://www.w3schools.com/css/img_lights.jpg -> img_lights.jpg\n",
      "다운로드: https://www.w3schools.com/css/img_mountains.jpg -> img_mountains.jpg\n"
     ]
    }
   ],
   "source": [
    "for url in movUrls + imgUrls:\n",
    "    disassembled = urlparser.urlparse(url)\n",
    "    filename = basename(disassembled.path)\n",
    "    print(\"다운로드:\", url, \"->\", filename)\n",
    "    response = requests.get(url, stream = True)\n",
    "    if response.status_code == 200:\n",
    "        with open(f\"./download/{filename}\", \"wb\") as f:\n",
    "            f.write(response.content)"
   ]
  }
 ],
 "metadata": {
  "kernelspec": {
   "display_name": "Python 3",
   "language": "python",
   "name": "python3"
  },
  "language_info": {
   "codemirror_mode": {
    "name": "ipython",
    "version": 3
   },
   "file_extension": ".py",
   "mimetype": "text/x-python",
   "name": "python",
   "nbconvert_exporter": "python",
   "pygments_lexer": "ipython3",
   "version": "3.8.5"
  }
 },
 "nbformat": 4,
 "nbformat_minor": 2
}

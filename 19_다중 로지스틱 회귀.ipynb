{
 "cells": [
  {
   "cell_type": "code",
   "execution_count": 1,
   "metadata": {},
   "outputs": [
    {
     "name": "stdout",
     "output_type": "stream",
     "text": [
      "WARNING:tensorflow:From C:\\Users\\user\\anaconda3\\lib\\site-packages\\tensorflow\\python\\compat\\v2_compat.py:96: disable_resource_variables (from tensorflow.python.ops.variable_scope) is deprecated and will be removed in a future version.\n",
      "Instructions for updating:\n",
      "non-resource variables are not supported in the long term\n"
     ]
    }
   ],
   "source": [
    "import numpy as np\n",
    "import pandas as pd\n",
    "import matplotlib.pyplot as plt\n",
    "import matplotlib as mpl\n",
    "import seaborn as sb\n",
    "%matplotlib inline\n",
    "import tensorflow.compat.v1 as tf\n",
    "tf.disable_v2_behavior()"
   ]
  },
  {
   "cell_type": "code",
   "execution_count": 4,
   "metadata": {},
   "outputs": [
    {
     "name": "stdout",
     "output_type": "stream",
     "text": [
      "[[2, 3], [4, 3], [6, 4], [8, 6], [10, 7], [12, 8], [14, 9]]\n",
      "<class 'type'>\n",
      "<class 'numpy.ndarray'>\n"
     ]
    }
   ],
   "source": [
    "# xData => [공부시간, 과외시간]\n",
    "temp = [[2, 3], [4, 3], [6, 4], [8, 6], [10, 7], [12, 8], [14, 9]]\n",
    "print(temp)\n",
    "print(type(type))\n",
    "xData = np.array(temp)\n",
    "print(type(xData))"
   ]
  },
  {
   "cell_type": "code",
   "execution_count": 6,
   "metadata": {},
   "outputs": [
    {
     "name": "stdout",
     "output_type": "stream",
     "text": [
      "[0 0 0 1 1 1 1]\n",
      "[[0]\n",
      " [0]\n",
      " [0]\n",
      " [1]\n",
      " [1]\n",
      " [1]\n",
      " [1]]\n"
     ]
    }
   ],
   "source": [
    "temp = [0, 0, 0, 1, 1, 1, 1]\n",
    "yData = np.array(temp)\n",
    "print(yData)\n",
    "# reshape() : 넘파이에서 데이터는 그대로 유지하고 배열의 형태(차원)만 변경합니다.\n",
    "yData = np.array(temp).reshape(7, 1)\n",
    "print(yData)"
   ]
  },
  {
   "cell_type": "code",
   "execution_count": 28,
   "metadata": {},
   "outputs": [],
   "source": [
    "X = tf.placeholder(dtype = tf.float32, shape = [None, 2])\n",
    "Y = tf.placeholder(dtype = tf.float32, shape = [None, 1])"
   ]
  },
  {
   "cell_type": "code",
   "execution_count": 29,
   "metadata": {},
   "outputs": [
    {
     "name": "stdout",
     "output_type": "stream",
     "text": [
      "[[0.875633  ]\n",
      " [0.25602376]]\n",
      "[0.1514504]\n"
     ]
    }
   ],
   "source": [
    "a = tf.Variable(tf.random_uniform([2, 1]), dtype = tf.float32)\n",
    "b = tf.Variable(tf.random_uniform([1], dtype = tf.float32))\n",
    "sess = tf.Session()\n",
    "sess.run(tf.global_variables_initializer())\n",
    "print('{}'.format(sess.run(a)))\n",
    "print('{}'.format(sess.run(b)))"
   ]
  },
  {
   "cell_type": "code",
   "execution_count": 30,
   "metadata": {},
   "outputs": [],
   "source": [
    "# matmul() : tensorflow에서 행렬의 곱셈을 계산하는 메소드\n",
    "# sigmoid() : tensorflow에서 sigmoid 방정식을 계산하는 메소드\n",
    "y = tf.sigmoid(tf.matmul(X, a) + b)\n",
    "loss = -tf.reduce_mean(Y * tf.log(y) + (1-y) * tf.log(1 - y))\n",
    "gradient_descent = tf.train.GradientDescentOptimizer(0.1).minimize(loss)"
   ]
  },
  {
   "cell_type": "code",
   "execution_count": 31,
   "metadata": {},
   "outputs": [],
   "source": [
    "# sigmoid() 메소드의 실행 결과(y)가 0.5 이상이면 1을, 0.5 미만이면 0을 리턴시킵니다.\n",
    "sess = tf.Session()\n",
    "# 예상값, sigmoid() 메소드를 실행한 결과(y)를 0 또는 1로 변환\n",
    "# cast() 메소드의 캐스팅할 데이터가 boolean타입이면 True는 1로 False는 0으로 캐스팅됩니다.\n",
    "predicted = tf.cast(y >= 0.5, dtype = tf.float32)\n",
    "accuracy = tf.reduce_mean(tf.cast(tf.equal(predicted, Y), dtype = tf.int32))"
   ]
  },
  {
   "cell_type": "code",
   "execution_count": 32,
   "metadata": {},
   "outputs": [
    {
     "name": "stdout",
     "output_type": "stream",
     "text": [
      "no :      0, a1 = 0.42545, a2 =   0.42414, b =   0.01390, loss : 0.07193\n",
      "no :    300, a1 =     nan, a2 =       nan, b =       nan, loss : nan\n",
      "no :    600, a1 =     nan, a2 =       nan, b =       nan, loss : nan\n",
      "no :    900, a1 =     nan, a2 =       nan, b =       nan, loss : nan\n",
      "no :   1200, a1 =     nan, a2 =       nan, b =       nan, loss : nan\n",
      "no :   1500, a1 =     nan, a2 =       nan, b =       nan, loss : nan\n",
      "no :   1800, a1 =     nan, a2 =       nan, b =       nan, loss : nan\n",
      "no :   2100, a1 =     nan, a2 =       nan, b =       nan, loss : nan\n",
      "no :   2400, a1 =     nan, a2 =       nan, b =       nan, loss : nan\n",
      "no :   2700, a1 =     nan, a2 =       nan, b =       nan, loss : nan\n",
      "no :   3000, a1 =     nan, a2 =       nan, b =       nan, loss : nan\n",
      "====================================================================================================\n",
      "[[6 5]]\n",
      "공부 시간 : 6, 과외 시간 : 5\n",
      "합격 여부(sigmoid() 메소드 실행 결과를 0.5 이상은 1, 미만은 0으로 변환합니다.) : 0, 합격 확률 : nan\n",
      "공부시간 : 0, 과외시간 :  0, 합격 여부 : 불합격, 합격확률 :      nan%\n",
      "공부시간 : 0, 과외시간 :  1, 합격 여부 : 불합격, 합격확률 :      nan%\n",
      "공부시간 : 0, 과외시간 :  2, 합격 여부 : 불합격, 합격확률 :      nan%\n",
      "공부시간 : 0, 과외시간 :  3, 합격 여부 : 불합격, 합격확률 :      nan%\n",
      "공부시간 : 0, 과외시간 :  4, 합격 여부 : 불합격, 합격확률 :      nan%\n",
      "공부시간 : 0, 과외시간 :  5, 합격 여부 : 불합격, 합격확률 :      nan%\n",
      "공부시간 : 0, 과외시간 :  6, 합격 여부 : 불합격, 합격확률 :      nan%\n",
      "공부시간 : 0, 과외시간 :  7, 합격 여부 : 불합격, 합격확률 :      nan%\n",
      "공부시간 : 0, 과외시간 :  8, 합격 여부 : 불합격, 합격확률 :      nan%\n",
      "공부시간 : 0, 과외시간 :  9, 합격 여부 : 불합격, 합격확률 :      nan%\n",
      "공부시간 : 0, 과외시간 : 10, 합격 여부 : 불합격, 합격확률 :      nan%\n"
     ]
    }
   ],
   "source": [
    "sess = tf.Session()\n",
    "sess.run(tf.global_variables_initializer())\n",
    "\n",
    "for i in range(3001):\n",
    "    a_, b_, loss_, gradient_descent_ = sess.run([a, b, loss, gradient_descent], feed_dict = {X : xData, Y : yData})\n",
    "    if i % 300 == 0:\n",
    "        print('no : %6d, a1 = %7.5f, a2 = %9.5f, b = %9.5f, loss : %.5f' % (i, a_[0], a_[1], b_, loss_))\n",
    "print('=' * 100)\n",
    "\n",
    "# 테스트 데이터를 만듭니다.\n",
    "new_x = np.array([6, 5]).reshape(1, 2)\n",
    "print(new_x)\n",
    "\n",
    "# sigmoid() 메소드 연산 결과에 테스트 데이터를 대입하여 연산합니다.\n",
    "result, new_y = sess.run([predicted, y], feed_dict = {X : new_x})\n",
    "print(\"공부 시간 : %d, 과외 시간 : %d\" % (new_x[:, 0], new_x[:, 1]))\n",
    "print(\"합격 여부(sigmoid() 메소드 실행 결과를 0.5 이상은 1, 미만은 0으로 변환합니다.) : %d, 합격 확률 : %f\" %(result, new_y))\n",
    "\n",
    "for i in range(11):\n",
    "    new_x = np.array([0, i]).reshape(1, 2)\n",
    "    result, new_y = sess.run([predicted, y], feed_dict = {X : new_x})\n",
    "    print('공부시간 : %d, 과외시간 : %2d' %(new_x[:, 0], new_x[:, 1]), end = ', ')\n",
    "    print('합격 여부 : %s, 합격확률 : %8.4f%%' % ('합격' if result == 1 else '불합격', new_y * 100 ))"
   ]
  }
 ],
 "metadata": {
  "kernelspec": {
   "display_name": "Python 3",
   "language": "python",
   "name": "python3"
  },
  "language_info": {
   "codemirror_mode": {
    "name": "ipython",
    "version": 3
   },
   "file_extension": ".py",
   "mimetype": "text/x-python",
   "name": "python",
   "nbconvert_exporter": "python",
   "pygments_lexer": "ipython3",
   "version": "3.8.5"
  }
 },
 "nbformat": 4,
 "nbformat_minor": 4
}

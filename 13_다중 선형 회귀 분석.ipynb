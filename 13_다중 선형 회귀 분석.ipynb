{
 "cells": [
  {
   "cell_type": "code",
   "execution_count": 2,
   "metadata": {},
   "outputs": [],
   "source": [
    "import tensorflow.compat.v1 as tf\n",
    "tf.disable_v2_behavior()"
   ]
  },
  {
   "cell_type": "code",
   "execution_count": 3,
   "metadata": {},
   "outputs": [
    {
     "name": "stdout",
     "output_type": "stream",
     "text": [
      "[2, 4, 6, 8]\n",
      "[0, 4, 2, 3]\n",
      "[81, 93, 91, 97]\n"
     ]
    }
   ],
   "source": [
    "# [공부한시간(x1), 과외수업시간(x2), 실제성적(y)]\n",
    "data = [[2, 0, 81], [4, 4, 93], [6, 2, 91], [8, 3, 97]] \n",
    "xData1 = [i[0] for i in data]\n",
    "xData2 = [i[1] for i in data]\n",
    "yData = [i[2] for i in data]\n",
    "print(xData1)\n",
    "print(xData2)\n",
    "print(yData)\n"
   ]
  },
  {
   "cell_type": "code",
   "execution_count": 4,
   "metadata": {},
   "outputs": [],
   "source": [
    "# y = a1 * xData1 + a2 * xData2 + b\n",
    "a1 = tf.Variable(tf.random_uniform([1], 0, 10, dtype=tf.float32))\n",
    "a2 = tf.Variable(tf.random_uniform([1], 0, 10, dtype=tf.float32))\n",
    "b = tf.Variable(tf.random_uniform([1], 0, 100, dtype=tf.float32))\n",
    "\n",
    "y = a1 * xData1 + a2 * xData2 + b\n",
    "rmse = tf.sqrt(tf.reduce_mean(tf.square(y - yData)))\n",
    "gradient_descent = tf.train.GradientDescentOptimizer(0.1).minimize(rmse)"
   ]
  },
  {
   "cell_type": "code",
   "execution_count": 7,
   "metadata": {},
   "outputs": [
    {
     "name": "stdout",
     "output_type": "stream",
     "text": [
      "count :    0, RMSE : 15.7892, 기울기(a1) :  7.5867, 기울기(a2) :  1.2191, y절편 : 59.0010\n",
      "count :  100, RMSE :  6.2710, 기울기(a1) :  3.9594, 기울기(a2) :  2.6105, y절편 : 62.3830\n",
      "count :  200, RMSE :  4.6638, 기울기(a1) :  3.1992, 기울기(a2) :  2.8302, y절편 : 66.3040\n",
      "count :  300, RMSE :  3.0852, 기울기(a1) :  2.6113, 기울기(a2) :  2.6683, y절편 : 70.2300\n",
      "count :  400, RMSE :  1.5230, 기울기(a1) :  2.0419, 기울기(a2) :  2.4728, y절편 : 74.1364\n",
      "count :  500, RMSE :  1.8360, 기울기(a1) :  1.4607, 기울기(a2) :  2.2445, y절편 : 76.3345\n",
      "count :  600, RMSE :  1.8369, 기울기(a1) :  1.3232, 기울기(a2) :  2.1957, y절편 : 77.1906\n",
      "count :  700, RMSE :  1.8370, 기울기(a1) :  1.2686, 기울기(a2) :  2.1766, y절편 : 77.5506\n",
      "count :  800, RMSE :  1.8370, 기울기(a1) :  1.2462, 기울기(a2) :  2.1688, y절편 : 77.7020\n",
      "count :  900, RMSE :  1.8370, 기울기(a1) :  1.2368, 기울기(a2) :  2.1656, y절편 : 77.7656\n",
      "count : 1000, RMSE :  1.8370, 기울기(a1) :  1.2329, 기울기(a2) :  2.1642, y절편 : 77.7923\n",
      "count : 1100, RMSE :  1.8370, 기울기(a1) :  1.2313, 기울기(a2) :  2.1637, y절편 : 77.8035\n",
      "count : 1200, RMSE :  1.8370, 기울기(a1) :  1.2306, 기울기(a2) :  2.1634, y절편 : 77.8082\n",
      "count : 1300, RMSE :  1.8370, 기울기(a1) :  1.2303, 기울기(a2) :  2.1633, y절편 : 77.8102\n",
      "count : 1400, RMSE :  1.8370, 기울기(a1) :  1.2302, 기울기(a2) :  2.1633, y절편 : 77.8111\n",
      "count : 1500, RMSE :  1.8371, 기울기(a1) :  1.2301, 기울기(a2) :  2.1633, y절편 : 77.8113\n",
      "count : 1600, RMSE :  1.8371, 기울기(a1) :  1.2301, 기울기(a2) :  2.1633, y절편 : 77.8113\n",
      "count : 1700, RMSE :  1.8371, 기울기(a1) :  1.2301, 기울기(a2) :  2.1633, y절편 : 77.8113\n",
      "count : 1800, RMSE :  1.8371, 기울기(a1) :  1.2301, 기울기(a2) :  2.1633, y절편 : 77.8113\n",
      "count : 1900, RMSE :  1.8371, 기울기(a1) :  1.2301, 기울기(a2) :  2.1633, y절편 : 77.8113\n",
      "count : 2000, RMSE :  1.8371, 기울기(a1) :  1.2301, 기울기(a2) :  2.1633, y절편 : 77.8113\n",
      "count : 2100, RMSE :  1.8371, 기울기(a1) :  1.2301, 기울기(a2) :  2.1633, y절편 : 77.8113\n",
      "count : 2200, RMSE :  1.8371, 기울기(a1) :  1.2301, 기울기(a2) :  2.1633, y절편 : 77.8113\n",
      "count : 2300, RMSE :  1.8371, 기울기(a1) :  1.2301, 기울기(a2) :  2.1633, y절편 : 77.8113\n",
      "count : 2400, RMSE :  1.8371, 기울기(a1) :  1.2301, 기울기(a2) :  2.1633, y절편 : 77.8113\n",
      "count : 2500, RMSE :  1.8371, 기울기(a1) :  1.2301, 기울기(a2) :  2.1633, y절편 : 77.8113\n",
      "count : 2600, RMSE :  1.8371, 기울기(a1) :  1.2301, 기울기(a2) :  2.1633, y절편 : 77.8113\n",
      "count : 2700, RMSE :  1.8371, 기울기(a1) :  1.2301, 기울기(a2) :  2.1633, y절편 : 77.8113\n",
      "count : 2800, RMSE :  1.8371, 기울기(a1) :  1.2301, 기울기(a2) :  2.1633, y절편 : 77.8113\n",
      "count : 2900, RMSE :  1.8371, 기울기(a1) :  1.2301, 기울기(a2) :  2.1633, y절편 : 77.8113\n",
      "count : 3000, RMSE :  1.8371, 기울기(a1) :  1.2301, 기울기(a2) :  2.1633, y절편 : 77.8113\n",
      "count : 3100, RMSE :  1.8371, 기울기(a1) :  1.2301, 기울기(a2) :  2.1633, y절편 : 77.8113\n",
      "count : 3200, RMSE :  1.8371, 기울기(a1) :  1.2301, 기울기(a2) :  2.1633, y절편 : 77.8113\n",
      "count : 3300, RMSE :  1.8371, 기울기(a1) :  1.2301, 기울기(a2) :  2.1633, y절편 : 77.8113\n",
      "count : 3400, RMSE :  1.8371, 기울기(a1) :  1.2301, 기울기(a2) :  2.1633, y절편 : 77.8113\n",
      "count : 3500, RMSE :  1.8371, 기울기(a1) :  1.2301, 기울기(a2) :  2.1633, y절편 : 77.8113\n",
      "count : 3600, RMSE :  1.8371, 기울기(a1) :  1.2301, 기울기(a2) :  2.1633, y절편 : 77.8113\n",
      "count : 3700, RMSE :  1.8371, 기울기(a1) :  1.2301, 기울기(a2) :  2.1633, y절편 : 77.8113\n",
      "count : 3800, RMSE :  1.8371, 기울기(a1) :  1.2301, 기울기(a2) :  2.1633, y절편 : 77.8113\n",
      "count : 3900, RMSE :  1.8371, 기울기(a1) :  1.2301, 기울기(a2) :  2.1633, y절편 : 77.8113\n",
      "count : 4000, RMSE :  1.8371, 기울기(a1) :  1.2301, 기울기(a2) :  2.1633, y절편 : 77.8113\n"
     ]
    }
   ],
   "source": [
    "import time\n",
    "\n",
    "with tf.Session() as sess:\n",
    "    sess.run(tf.global_variables_initializer())\n",
    "    for i in range(4001):\n",
    "        sess.run(gradient_descent)\n",
    "        if i % 100 == 0:\n",
    "            print('count : %4d, RMSE : %7.4f, 기울기(a1) : %7.4f, 기울기(a2) : %7.4f, y절편 : %7.4f' % (i, sess.run(rmse), sess.run(a1), sess.run(a2), sess.run(b)))\n",
    "            time.sleep(0.5)"
   ]
  }
 ],
 "metadata": {
  "kernelspec": {
   "display_name": "Python 3",
   "language": "python",
   "name": "python3"
  },
  "language_info": {
   "codemirror_mode": {
    "name": "ipython",
    "version": 3
   },
   "file_extension": ".py",
   "mimetype": "text/x-python",
   "name": "python",
   "nbconvert_exporter": "python",
   "pygments_lexer": "ipython3",
   "version": "3.8.5"
  }
 },
 "nbformat": 4,
 "nbformat_minor": 4
}

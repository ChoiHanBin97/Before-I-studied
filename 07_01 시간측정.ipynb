{
 "cells": [
  {
   "cell_type": "markdown",
   "metadata": {},
   "source": [
    "# 경과 시간 측정"
   ]
  },
  {
   "cell_type": "code",
   "execution_count": 2,
   "metadata": {},
   "outputs": [],
   "source": [
    "import time\n",
    "from datetime import timedelta"
   ]
  },
  {
   "cell_type": "code",
   "execution_count": 4,
   "metadata": {},
   "outputs": [
    {
     "name": "stdout",
     "output_type": "stream",
     "text": [
      "0\n",
      "1\n",
      "2\n",
      "3\n",
      "4\n",
      "10.029247522354126 seconds\n"
     ]
    }
   ],
   "source": [
    "start_time = time.time()\n",
    "\n",
    "for i in range(5):\n",
    "    print(i)\n",
    "    time.sleep(2)\n",
    "\n",
    "\n",
    "end_time = time.time()\n",
    "elapsed_time = end_time - start_time  # 경과시간\n",
    "print(\"%s seconds\" % (elapsed_time))"
   ]
  },
  {
   "cell_type": "code",
   "execution_count": 6,
   "metadata": {},
   "outputs": [
    {
     "data": {
      "text/plain": [
       "'3:25:45'"
      ]
     },
     "execution_count": 6,
     "metadata": {},
     "output_type": "execute_result"
    }
   ],
   "source": [
    "str(timedelta(seconds = 12345))"
   ]
  },
  {
   "cell_type": "markdown",
   "metadata": {},
   "source": [
    "# list의 append() vs insert()"
   ]
  },
  {
   "cell_type": "code",
   "execution_count": 38,
   "metadata": {},
   "outputs": [],
   "source": [
    "num = 40000"
   ]
  },
  {
   "cell_type": "code",
   "execution_count": 39,
   "metadata": {},
   "outputs": [
    {
     "name": "stdout",
     "output_type": "stream",
     "text": [
      "append() x 40000 경과시간 0:00:00.003020\n"
     ]
    }
   ],
   "source": [
    "start_time = time.time()\n",
    "\n",
    "data = []\n",
    "for i in range(1, num + 1):\n",
    "    data.append(i)\n",
    "    \n",
    "end_time = time.time()\n",
    "elapsed_time = end_time - start_time  # 경과시간\n",
    "print(\"append() x %d 경과시간 %s\" % (num, str(timedelta(seconds = elapsed_time))))"
   ]
  },
  {
   "cell_type": "code",
   "execution_count": 40,
   "metadata": {},
   "outputs": [
    {
     "name": "stdout",
     "output_type": "stream",
     "text": [
      "insert() x 40000 경과시간 0:00:00.422309\n"
     ]
    }
   ],
   "source": [
    "start_time = time.time()\n",
    "\n",
    "data = []\n",
    "for i in range(num, 0, -1):\n",
    "    data.insert(0, i)\n",
    "    \n",
    "end_time = time.time()\n",
    "elapsed_time = end_time - start_time  # 경과시간\n",
    "print(\"insert() x %d 경과시간 %s\" % (num, str(timedelta(seconds = elapsed_time))))"
   ]
  },
  {
   "cell_type": "markdown",
   "metadata": {},
   "source": [
    "# 문자열 연결하기\n",
    "\n",
    "# str에서의  '+ VS append()'"
   ]
  },
  {
   "cell_type": "code",
   "execution_count": 41,
   "metadata": {},
   "outputs": [
    {
     "data": {
      "text/plain": [
       "'helloPython'"
      ]
     },
     "execution_count": 41,
     "metadata": {},
     "output_type": "execute_result"
    }
   ],
   "source": [
    "\"hello\" + \"Python\""
   ]
  },
  {
   "cell_type": "code",
   "execution_count": 58,
   "metadata": {},
   "outputs": [],
   "source": [
    "num = 5000000"
   ]
  },
  {
   "cell_type": "code",
   "execution_count": 59,
   "metadata": {},
   "outputs": [
    {
     "name": "stdout",
     "output_type": "stream",
     "text": [
      "str(+) x 5000000 경과시간 0:00:01.689120\n"
     ]
    }
   ],
   "source": [
    "start_time = time.time()\n",
    "\n",
    "data = \"\"\n",
    "for i in range(num):\n",
    "    data += \"a\"\n",
    "end_time = time.time()\n",
    "\n",
    "elapsed_time = end_time - start_time  # 경과 시간\n",
    "print('str(+) x %d 경과시간 %s' % (num, str(timedelta(seconds = elapsed_time))))\n"
   ]
  },
  {
   "cell_type": "code",
   "execution_count": 60,
   "metadata": {},
   "outputs": [
    {
     "name": "stdout",
     "output_type": "stream",
     "text": [
      "append() x 5000000 경과시간 0:00:00.513412\n"
     ]
    }
   ],
   "source": [
    "start_time = time.time()\n",
    "\n",
    "data = []\n",
    "for i in range(num):\n",
    "    data.append(\"a\")\n",
    "data = \"\".join(data)\n",
    "    \n",
    "end_time = time.time()\n",
    "elapsed_time = end_time - start_time  # 경과시간\n",
    "print(\"append() x %d 경과시간 %s\" % (num, str(timedelta(seconds = elapsed_time))))"
   ]
  }
 ],
 "metadata": {
  "kernelspec": {
   "display_name": "Python 3",
   "language": "python",
   "name": "python3"
  },
  "language_info": {
   "codemirror_mode": {
    "name": "ipython",
    "version": 3
   },
   "file_extension": ".py",
   "mimetype": "text/x-python",
   "name": "python",
   "nbconvert_exporter": "python",
   "pygments_lexer": "ipython3",
   "version": "3.7.4"
  }
 },
 "nbformat": 4,
 "nbformat_minor": 2
}

{
 "cells": [
  {
   "cell_type": "markdown",
   "metadata": {},
   "source": [
    "1. 푸쉬 노티피케이션 타임 의사 결정 하기"
   ]
  },
  {
   "cell_type": "code",
   "execution_count": 2,
   "metadata": {},
   "outputs": [],
   "source": [
    "from datetime import datetime\n",
    "import numpy as np\n",
    "import pandas as pd\n",
    "import seaborn as sns\n",
    "COLORS = sns.color_palette()\n",
    "%matplotlib inline"
   ]
  },
  {
   "cell_type": "code",
   "execution_count": 3,
   "metadata": {},
   "outputs": [],
   "source": [
    "def plot_bar(df, xlabel, ylabel, title, color=COLORS[-1], figsize = (20, 10), rotation = 45):\n",
    "    plot = df.plot(kind = 'bar', color = color, figsize = figsize)\n",
    "    plot.set_xlabel(xlabel, fontsize = 11)\n",
    "    plot.set_ylabel(ylabel, fontsize = 11)\n",
    "    plot.set_title(title, fontsize = 13)\n",
    "    plot.set_xticklabels(labels = df.index, rotation = rotation)"
   ]
  },
  {
   "cell_type": "code",
   "execution_count": 4,
   "metadata": {},
   "outputs": [
    {
     "data": {
      "text/html": [
       "<div>\n",
       "<style scoped>\n",
       "    .dataframe tbody tr th:only-of-type {\n",
       "        vertical-align: middle;\n",
       "    }\n",
       "\n",
       "    .dataframe tbody tr th {\n",
       "        vertical-align: top;\n",
       "    }\n",
       "\n",
       "    .dataframe thead th {\n",
       "        text-align: right;\n",
       "    }\n",
       "</style>\n",
       "<table border=\"1\" class=\"dataframe\">\n",
       "  <thead>\n",
       "    <tr style=\"text-align: right;\">\n",
       "      <th></th>\n",
       "      <th>Unnamed: 0</th>\n",
       "      <th>InvoiceNo</th>\n",
       "      <th>StockCode</th>\n",
       "      <th>Description</th>\n",
       "      <th>Quantity</th>\n",
       "      <th>InvoiceDate</th>\n",
       "      <th>UnitPrice</th>\n",
       "      <th>CustomerID</th>\n",
       "      <th>Country</th>\n",
       "      <th>CheckoutPrice</th>\n",
       "    </tr>\n",
       "  </thead>\n",
       "  <tbody>\n",
       "    <tr>\n",
       "      <th>0</th>\n",
       "      <td>0</td>\n",
       "      <td>536365</td>\n",
       "      <td>85123A</td>\n",
       "      <td>WHITE HANGING HEART T-LIGHT HOLDER</td>\n",
       "      <td>6</td>\n",
       "      <td>2010-12-01 08:26:00</td>\n",
       "      <td>2.55</td>\n",
       "      <td>17850</td>\n",
       "      <td>United Kingdom</td>\n",
       "      <td>15.30</td>\n",
       "    </tr>\n",
       "    <tr>\n",
       "      <th>1</th>\n",
       "      <td>1</td>\n",
       "      <td>536365</td>\n",
       "      <td>71053</td>\n",
       "      <td>WHITE METAL LANTERN</td>\n",
       "      <td>6</td>\n",
       "      <td>2010-12-01 08:26:00</td>\n",
       "      <td>3.39</td>\n",
       "      <td>17850</td>\n",
       "      <td>United Kingdom</td>\n",
       "      <td>20.34</td>\n",
       "    </tr>\n",
       "    <tr>\n",
       "      <th>2</th>\n",
       "      <td>2</td>\n",
       "      <td>536365</td>\n",
       "      <td>84406B</td>\n",
       "      <td>CREAM CUPID HEARTS COAT HANGER</td>\n",
       "      <td>8</td>\n",
       "      <td>2010-12-01 08:26:00</td>\n",
       "      <td>2.75</td>\n",
       "      <td>17850</td>\n",
       "      <td>United Kingdom</td>\n",
       "      <td>22.00</td>\n",
       "    </tr>\n",
       "    <tr>\n",
       "      <th>3</th>\n",
       "      <td>3</td>\n",
       "      <td>536365</td>\n",
       "      <td>84029G</td>\n",
       "      <td>KNITTED UNION FLAG HOT WATER BOTTLE</td>\n",
       "      <td>6</td>\n",
       "      <td>2010-12-01 08:26:00</td>\n",
       "      <td>3.39</td>\n",
       "      <td>17850</td>\n",
       "      <td>United Kingdom</td>\n",
       "      <td>20.34</td>\n",
       "    </tr>\n",
       "    <tr>\n",
       "      <th>4</th>\n",
       "      <td>4</td>\n",
       "      <td>536365</td>\n",
       "      <td>84029E</td>\n",
       "      <td>RED WOOLLY HOTTIE WHITE HEART.</td>\n",
       "      <td>6</td>\n",
       "      <td>2010-12-01 08:26:00</td>\n",
       "      <td>3.39</td>\n",
       "      <td>17850</td>\n",
       "      <td>United Kingdom</td>\n",
       "      <td>20.34</td>\n",
       "    </tr>\n",
       "  </tbody>\n",
       "</table>\n",
       "</div>"
      ],
      "text/plain": [
       "   Unnamed: 0  InvoiceNo StockCode                          Description  \\\n",
       "0           0     536365    85123A   WHITE HANGING HEART T-LIGHT HOLDER   \n",
       "1           1     536365     71053                  WHITE METAL LANTERN   \n",
       "2           2     536365    84406B       CREAM CUPID HEARTS COAT HANGER   \n",
       "3           3     536365    84029G  KNITTED UNION FLAG HOT WATER BOTTLE   \n",
       "4           4     536365    84029E       RED WOOLLY HOTTIE WHITE HEART.   \n",
       "\n",
       "   Quantity         InvoiceDate  UnitPrice  CustomerID         Country  \\\n",
       "0         6 2010-12-01 08:26:00       2.55       17850  United Kingdom   \n",
       "1         6 2010-12-01 08:26:00       3.39       17850  United Kingdom   \n",
       "2         8 2010-12-01 08:26:00       2.75       17850  United Kingdom   \n",
       "3         6 2010-12-01 08:26:00       3.39       17850  United Kingdom   \n",
       "4         6 2010-12-01 08:26:00       3.39       17850  United Kingdom   \n",
       "\n",
       "   CheckoutPrice  \n",
       "0          15.30  \n",
       "1          20.34  \n",
       "2          22.00  \n",
       "3          20.34  \n",
       "4          20.34  "
      ]
     },
     "execution_count": 4,
     "metadata": {},
     "output_type": "execute_result"
    }
   ],
   "source": [
    "dtypes = {\n",
    "    'UnitPrice' : np.float32,\n",
    "    'CustomerID' : np.int32,\n",
    "    'Quantity' : np.int32\n",
    "}\n",
    "retail = pd.read_csv('OnlineRetailClean.csv', dtype = dtypes)\n",
    "retail['InvoiceDate'] = pd.to_datetime(retail['InvoiceDate'], infer_datetime_format = True)\n",
    "retail.head()"
   ]
  },
  {
   "cell_type": "markdown",
   "metadata": {},
   "source": [
    "#### 쿠폰 발송을 할 때 push를 언제 보내는 게 좋을까?\n",
    "- 가장 많이 주문이 일어나는 시점에서 하는 것이 가장 직관적인 판단\n",
    "    1. 데이터로 파악\n",
    "    2. 가설 제시\n",
    "    3. 가설 검증\n",
    "    4. 1 ~ 3 반복\n",
    "- 시간(hour, minute)과 주로 관련되기 때문에 역시 InvoiceDate가 중요한 feature"
   ]
  },
  {
   "cell_type": "code",
   "execution_count": 5,
   "metadata": {},
   "outputs": [
    {
     "data": {
      "text/plain": [
       "6         1\n",
       "7       379\n",
       "8      8690\n",
       "9     21944\n",
       "10    37997\n",
       "11    49084\n",
       "12    72065\n",
       "13    64026\n",
       "14    54118\n",
       "15    45369\n",
       "16    24089\n",
       "17    13071\n",
       "18     2928\n",
       "19     3321\n",
       "20      802\n",
       "Name: CustomerID, dtype: int64"
      ]
     },
     "execution_count": 5,
     "metadata": {},
     "output_type": "execute_result"
    }
   ],
   "source": [
    "order_by_hour = retail.set_index('InvoiceDate').groupby(lambda date : date.hour).count()['CustomerID']\n",
    "order_by_hour"
   ]
  },
  {
   "cell_type": "code",
   "execution_count": 6,
   "metadata": {},
   "outputs": [
    {
     "data": {
      "image/png": "[encoded data removed]",
      "text/plain": [
       "<Figure size 1440x720 with 1 Axes>"
      ]
     },
     "metadata": {
      "needs_background": "light"
     },
     "output_type": "display_data"
    }
   ],
   "source": [
    "plot_bar(order_by_hour, 'Hour', '# orders', 'Order by Hour')"
   ]
  },
  {
   "cell_type": "code",
   "execution_count": 7,
   "metadata": {},
   "outputs": [],
   "source": [
    "# 특정 날짜를 입력하면 시간과 분을 리턴하는 함수\n",
    "def half_an_hour(date):\n",
    "    minute = ':00'\n",
    "    if date.minute > 30:\n",
    "        minute = ':30'\n",
    "    hour = str(date.hour)\n",
    "    if date.hour < 10:\n",
    "        hour = '0' + hour\n",
    "    \n",
    "    return hour + minute"
   ]
  },
  {
   "cell_type": "code",
   "execution_count": 9,
   "metadata": {},
   "outputs": [
    {
     "data": {
      "text/plain": [
       "06:00        1\n",
       "07:30      379\n",
       "08:00     3145\n",
       "08:30     5545\n",
       "09:00     9364\n",
       "09:30    12580\n",
       "10:00    16950\n",
       "10:30    21047\n",
       "11:00    18925\n",
       "11:30    30159\n",
       "12:00    37174\n",
       "12:30    34891\n",
       "13:00    31131\n",
       "13:30    32895\n",
       "14:00    26958\n",
       "14:30    27160\n",
       "15:00    24227\n",
       "15:30    21142\n",
       "16:00    14316\n",
       "16:30     9773\n",
       "17:00     8889\n",
       "17:30     4182\n",
       "18:00     1715\n",
       "18:30     1213\n",
       "19:00     1534\n",
       "19:30     1787\n",
       "20:00      802\n",
       "Name: CustomerID, dtype: int64"
      ]
     },
     "execution_count": 9,
     "metadata": {},
     "output_type": "execute_result"
    }
   ],
   "source": [
    "order_by_hour_half = retail.set_index('InvoiceDate').groupby(half_an_hour).count()['CustomerID']\n",
    "order_by_hour_half"
   ]
  },
  {
   "cell_type": "code",
   "execution_count": 11,
   "metadata": {},
   "outputs": [
    {
     "data": {
      "text/plain": [
       "06:00    0.000003\n",
       "07:30    0.000953\n",
       "08:00    0.007904\n",
       "08:30    0.013936\n",
       "09:00    0.023534\n",
       "09:30    0.031617\n",
       "10:00    0.042600\n",
       "10:30    0.052897\n",
       "11:00    0.047564\n",
       "11:30    0.075798\n",
       "12:00    0.093429\n",
       "12:30    0.087691\n",
       "13:00    0.078241\n",
       "13:30    0.082675\n",
       "14:00    0.067753\n",
       "14:30    0.068261\n",
       "15:00    0.060890\n",
       "15:30    0.053136\n",
       "16:00    0.035980\n",
       "16:30    0.024562\n",
       "17:00    0.022341\n",
       "17:30    0.010511\n",
       "18:00    0.004310\n",
       "18:30    0.003049\n",
       "19:00    0.003855\n",
       "19:30    0.004491\n",
       "20:00    0.002016\n",
       "Name: CustomerID, dtype: float64"
      ]
     },
     "execution_count": 11,
     "metadata": {},
     "output_type": "execute_result"
    }
   ],
   "source": [
    "order_by_hour_half / order_by_hour_half.sum()"
   ]
  },
  {
   "cell_type": "code",
   "execution_count": 12,
   "metadata": {},
   "outputs": [
    {
     "data": {
      "image/png": "[encoded data removed]",
      "text/plain": [
       "<Figure size 1440x720 with 1 Axes>"
      ]
     },
     "metadata": {
      "needs_background": "light"
     },
     "output_type": "display_data"
    }
   ],
   "source": [
    "plot_bar(order_by_hour_half, 'half an hour', '# orders', 'order by half and hour')"
   ]
  }
 ],
 "metadata": {
  "kernelspec": {
   "display_name": "Python 3",
   "language": "python",
   "name": "python3"
  },
  "language_info": {
   "codemirror_mode": {
    "name": "ipython",
    "version": 3
   },
   "file_extension": ".py",
   "mimetype": "text/x-python",
   "name": "python",
   "nbconvert_exporter": "python",
   "pygments_lexer": "ipython3",
   "version": "3.8.5"
  }
 },
 "nbformat": 4,
 "nbformat_minor": 4
}

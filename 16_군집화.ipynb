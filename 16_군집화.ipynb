{
 "cells": [
  {
   "cell_type": "markdown",
   "metadata": {},
   "source": [
    "### 군집화\n",
    "- 여러 개의 데이터가 있을 때 군집화하는 것을 의미합니다.\n",
    "- 비슷한 데이터끼리 묶으면 관리하기가 쉽다는 장점이 있습니다.\n",
    "(예 : 학원 -> 고급반, 중급반, 초급반)\n",
    "- 비지도 학습 알고리즘은 프로그래머가 정확한 방향성을 주지 않더라도 알아서 학습이 가능한 알고리즘으로 데이터를 군집화하는 알고리즘입니다."
   ]
  },
  {
   "cell_type": "code",
   "execution_count": 10,
   "metadata": {},
   "outputs": [
    {
     "name": "stderr",
     "output_type": "stream",
     "text": [
      "UsageError: Line magic function `%matplotlib.inline` not found.\n"
     ]
    }
   ],
   "source": [
    "import numpy as np\n",
    "import pandas as pd\n",
    "import matplotlib.pyplot as plt\n",
    "import seaborn as sb\n",
    "from sklearn.cluster import KMeans\n",
    "%matplotlib.inline"
   ]
  },
  {
   "cell_type": "code",
   "execution_count": 9,
   "metadata": {},
   "outputs": [
    {
     "name": "stdout",
     "output_type": "stream",
     "text": [
      "     x   y\n",
      "0    2   3\n",
      "1    2  11\n",
      "2    2  18\n",
      "3    4   5\n",
      "4    4   7\n",
      "5    5   3\n",
      "6    5  15\n",
      "7    6   6\n",
      "8    6   8\n",
      "9    6   9\n",
      "10   7   2\n",
      "11   7   4\n",
      "12   7   5\n",
      "13   7  17\n",
      "14   7  18\n",
      "15   8   5\n",
      "16   8   4\n",
      "17   9  10\n",
      "18   9  11\n",
      "19   9  15\n",
      "20   9  19\n",
      "21  10   5\n",
      "22  10   8\n",
      "23  10  18\n",
      "24  12   6\n",
      "25  13   5\n",
      "26  14  11\n",
      "27  15   6\n",
      "28  15  18\n",
      "29  18  12\n",
      "<class 'numpy.ndarray'>\n",
      "RangeIndex(start=0, stop=30, step=1)\n",
      "Index(['x', 'y'], dtype='object')\n",
      "[[ 2  3]\n",
      " [ 2 11]\n",
      " [ 2 18]\n",
      " [ 4  5]\n",
      " [ 4  7]\n",
      " [ 5  3]\n",
      " [ 5 15]\n",
      " [ 6  6]\n",
      " [ 6  8]\n",
      " [ 6  9]\n",
      " [ 7  2]\n",
      " [ 7  4]\n",
      " [ 7  5]\n",
      " [ 7 17]\n",
      " [ 7 18]\n",
      " [ 8  5]\n",
      " [ 8  4]\n",
      " [ 9 10]\n",
      " [ 9 11]\n",
      " [ 9 15]\n",
      " [ 9 19]\n",
      " [10  5]\n",
      " [10  8]\n",
      " [10 18]\n",
      " [12  6]\n",
      " [13  5]\n",
      " [14 11]\n",
      " [15  6]\n",
      " [15 18]\n",
      " [18 12]]\n"
     ]
    }
   ],
   "source": [
    "df = pd.read_csv('cluster.csv')\n",
    "print(df)\n",
    "print(type(df.values))\n",
    "print(df.index)  # 데이터 프레임의 인덱스를 리턴합니다. -> 행\n",
    "print(df.columns) # 데이터 프레임의 컬럼을 리턴합니다.  -> 열\n",
    "\n",
    "print(df.values)"
   ]
  },
  {
   "cell_type": "code",
   "execution_count": 24,
   "metadata": {},
   "outputs": [
    {
     "data": {
      "text/plain": [
       "Text(0.42499999999999716, 0.5, 'y Label')"
      ]
     },
     "execution_count": 24,
     "metadata": {},
     "output_type": "execute_result"
    },
    {
     "data": {
      "image/png": "[encoded data removed]",
      "text/plain": [
       "<Figure size 360x360 with 1 Axes>"
      ]
     },
     "metadata": {
      "needs_background": "light"
     },
     "output_type": "display_data"
    }
   ],
   "source": [
    "sb.lmplot('x', 'y', data = df, fit_reg=False, scatter_kws={'s' : 25})\n",
    "plt.title('KMeans Example')\n",
    "plt.xlabel('x Label')\n",
    "plt.ylabel('y Label')"
   ]
  },
  {
   "cell_type": "code",
   "execution_count": 41,
   "metadata": {
    "scrolled": true
   },
   "outputs": [
    {
     "name": "stdout",
     "output_type": "stream",
     "text": [
      "KMeans() 함수 n_cluster 중심의 위치를 리턴합니다.\n",
      "[[ 5.53846154  5.53846154  0.        ]\n",
      " [15.66666667 13.66666667  3.        ]\n",
      " [ 7.         17.14285714  1.        ]\n",
      " [11.14285714  7.28571429  2.        ]]\n",
      "\n",
      "각각의 레코드들이 속하는 그룹을 나타냅니다.\n",
      "[0 0 2 0 0 0 2 0 0 0 0 0 0 2 2 0 0 3 3 2 2 3 3 2 3 3 1 3 1 1]\n",
      "\n",
      "     x   y  cluster\n",
      "0    2   3        0\n",
      "1    2  11        0\n",
      "2    2  18        2\n",
      "3    4   5        0\n",
      "4    4   7        0\n",
      "5    5   3        0\n",
      "6    5  15        2\n",
      "7    6   6        0\n",
      "8    6   8        0\n",
      "9    6   9        0\n",
      "10   7   2        0\n",
      "11   7   4        0\n",
      "12   7   5        0\n",
      "13   7  17        2\n",
      "14   7  18        2\n",
      "15   8   5        0\n",
      "16   8   4        0\n",
      "17   9  10        3\n",
      "18   9  11        3\n",
      "19   9  15        2\n",
      "20   9  19        2\n",
      "21  10   5        3\n",
      "22  10   8        3\n",
      "23  10  18        2\n",
      "24  12   6        3\n",
      "25  13   5        3\n",
      "26  14  11        1\n",
      "27  15   6        3\n",
      "28  15  18        1\n",
      "29  18  12        1\n"
     ]
    }
   ],
   "source": [
    "# KMeans 알고리즘을 이용해 Cluster 4개를 생성합니다.\n",
    "# 별다른 설정을 하지 않으면 기본적으로 kmeans가 적용되므로 실행할 때마다 값이 변경될 수 있습니다.\n",
    "# n_clusters : 군집화 할 cluster의 개수를 지정합니다.\n",
    "# KMeans() 함수의 n_cluster 속성으로 군집화할 cluster의 개수를 지정하고 fit() 함수를 사용해 학습시킵니다.\n",
    "\n",
    "points = df.values\n",
    "kmeans = KMeans(n_clusters = 4).fit(points)\n",
    "# KMeans() 함수 n_cluster 중심의 위치를 리턴합니다.\n",
    "print('KMeans() 함수 n_cluster 중심의 위치를 리턴합니다.')\n",
    "print(kmeans.cluster_centers_, end = '\\n\\n')\n",
    "print('각각의 레코드들이 속하는 그룹을 나타냅니다.')\n",
    "print(kmeans.labels_, end = '\\n\\n')\n",
    "# df 데이터 프레임에 cluster라는 열을 추가하고 군집화된 결과를 저장하빈다.\n",
    "df['cluster'] = kmeans.labels_\n",
    "print(df)"
   ]
  },
  {
   "cell_type": "code",
   "execution_count": 42,
   "metadata": {},
   "outputs": [
    {
     "data": {
      "image/png": "[encoded data removed]",
      "text/plain": [
       "<Figure size 402.375x360 with 1 Axes>"
      ]
     },
     "metadata": {
      "needs_background": "light"
     },
     "output_type": "display_data"
    }
   ],
   "source": [
    "sb.lmplot('x', 'y', data = df, fit_reg = False, scatter_kws = {'s' : 25}, hue = 'cluster')   # scatter_kws : 점의 크기 / hue : 범례\n",
    "plt.title('KMeans Example')\n",
    "plt.xlabel('x Label')\n",
    "plt.ylabel('y Label')\n",
    "plt.show()"
   ]
  },
  {
   "cell_type": "code",
   "execution_count": null,
   "metadata": {},
   "outputs": [],
   "source": []
  }
 ],
 "metadata": {
  "kernelspec": {
   "display_name": "Python 3",
   "language": "python",
   "name": "python3"
  },
  "language_info": {
   "codemirror_mode": {
    "name": "ipython",
    "version": 3
   },
   "file_extension": ".py",
   "mimetype": "text/x-python",
   "name": "python",
   "nbconvert_exporter": "python",
   "pygments_lexer": "ipython3",
   "version": "3.8.5"
  }
 },
 "nbformat": 4,
 "nbformat_minor": 4
}

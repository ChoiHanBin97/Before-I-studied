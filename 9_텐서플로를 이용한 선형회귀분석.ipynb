{
 "cells": [
  {
   "cell_type": "code",
   "execution_count": 4,
   "metadata": {},
   "outputs": [],
   "source": [
    "import tensorflow.compat.v1 as tf  # 텐서플로의 compat 버전 1 사용\n",
    "tf.disable_v2_behavior()    # 텐서플로 버전 2 문법을 사용하지 않음"
   ]
  },
  {
   "cell_type": "code",
   "execution_count": 7,
   "metadata": {},
   "outputs": [],
   "source": [
    "# 아르바이트 시간\n",
    "xData = [1, 2, 3, 4, 5, 6, 7]  \n",
    "# 하루 아르바이트 시간에 따른 비용\n",
    "yData = [25000, 55000, 75000, 110000, 128000, 155000, 180000] "
   ]
  },
  {
   "cell_type": "code",
   "execution_count": 22,
   "metadata": {},
   "outputs": [
    {
     "name": "stdout",
     "output_type": "stream",
     "text": [
      "a = [-97.933105], b = [84.655075]\n"
     ]
    }
   ],
   "source": [
    "# 난수를 발생시켜 학습할 기울기와 y절편을 구합니다.\n",
    "\n",
    "# 기울기\n",
    "a = tf.Variable(tf.random_uniform([1], -100, 100)) # -100 ~ 100 사이의 분포 값 중 하나를 뽑음\n",
    "# y절편\n",
    "b = tf.Variable(tf.random_uniform([1], -100, 100)) \n",
    "\n",
    "sess = tf.Session() # 버전1에서는 Session 구간 안에서만 변수 활용 가능\n",
    "sess.run(tf.global_variables_initializer())\n",
    "print('a = {}, b = {}'.format(sess.run(a), sess.run(b)))"
   ]
  },
  {
   "cell_type": "code",
   "execution_count": 23,
   "metadata": {},
   "outputs": [
    {
     "name": "stdout",
     "output_type": "stream",
     "text": [
      "Tensor(\"Placeholder_10:0\", dtype=float32)\n"
     ]
    }
   ],
   "source": [
    "# 노동 시간과 매출 금액을 기억할 tensorflow에서 사용하는 자료형을 선언합니다.\n",
    "x = tf.placeholder(dtype = tf.float32) # 노동시간 저장\n",
    "y = tf.placeholder(dtype = tf.float32) # 매출금액 저장\n",
    "print(x)\n",
    "\n",
    "# 1차 방정식 형태의 가설을 세우고 비용(오차) 함수를 정의합니다.\n",
    "# 비용(오차) 함수 : 실제값(y)과 예측값(Y)의 편차에 대한 제곱의 평균을 이용합니다. -> 평균 제곱법\n",
    "\n",
    "Y = a * x + b # 1차 방정식 형태의 가설 예측값\n",
    "\n",
    "# reduce_mean() : 평균을 계산하는 함수\n",
    "# square() : 제곱값을 계산하는 함수\n",
    "cost = tf.reduce_mean(tf.square(Y-y))"
   ]
  },
  {
   "cell_type": "code",
   "execution_count": 24,
   "metadata": {},
   "outputs": [],
   "source": [
    "# tensorflow의 경사 하강 함수로 비용(오차) 함수의 결과를 가장 작게 만드는 방향으로 학습합니다.\n",
    "# 경사 하강 알고리즘의 학습률을 설정합니다.\n",
    "learning_rate = tf.Variable(0.01) # 주로 0.01 ~ 0.5 사이\n",
    "\n",
    "# 비용(오차) 함수를 가장 작게 만드는 방향으로 학습을 시킵니다.\n",
    "# tf.train.GradientDescentOptimizer(학습률)\n",
    "# train = optimizer.minimize(cost)\n",
    "train = tf.train.GradientDescentOptimizer(learning_rate).minimize(cost)"
   ]
  },
  {
   "cell_type": "code",
   "execution_count": 33,
   "metadata": {},
   "outputs": [
    {
     "name": "stdout",
     "output_type": "stream",
     "text": [
      " 500    8687229.00  25537.391   1950.838\n",
      "1000    8633813.00  25627.488   1504.680\n",
      "1500    8632677.00  25640.617   1439.667\n",
      "2000    8632654.00  25642.531   1430.187\n",
      "2500    8632649.00  25642.805   1428.820\n",
      "3000    8632656.00  25642.844   1428.633\n",
      "3500    8632657.00  25642.848   1428.613\n",
      "4000    8632657.00  25642.848   1428.613\n",
      "4500    8632657.00  25642.848   1428.613\n",
      "5000    8632657.00  25642.848   1428.613\n",
      " 8시간 노동을 했을 떄 하루 매출 기대액 : 206,571.4원\n",
      " 9시간 노동을 했을 떄 하루 매출 기대액 : 232,214.2원\n",
      "10시간 노동을 했을 떄 하루 매출 기대액 : 257,857.1원\n",
      "11시간 노동을 했을 떄 하루 매출 기대액 : 283,499.9원\n",
      "12시간 노동을 했을 떄 하루 매출 기대액 : 309,142.8원\n",
      "13시간 노동을 했을 떄 하루 매출 기대액 : 334,785.7원\n",
      "14시간 노동을 했을 떄 하루 매출 기대액 : 360,428.5원\n",
      "15시간 노동을 했을 떄 하루 매출 기대액 : 386,071.3원\n",
      "16시간 노동을 했을 떄 하루 매출 기대액 : 411,714.2원\n",
      "17시간 노동을 했을 떄 하루 매출 기대액 : 437,357.0원\n",
      "18시간 노동을 했을 떄 하루 매출 기대액 : 462,999.9원\n",
      "19시간 노동을 했을 떄 하루 매출 기대액 : 488,642.7원\n",
      "20시간 노동을 했을 떄 하루 매출 기대액 : 514,285.6원\n",
      "21시간 노동을 했을 떄 하루 매출 기대액 : 539,928.4원\n",
      "22시간 노동을 했을 떄 하루 매출 기대액 : 565,571.2원\n",
      "23시간 노동을 했을 떄 하루 매출 기대액 : 591,214.1원\n",
      "24시간 노동을 했을 떄 하루 매출 기대액 : 616,857.0원\n"
     ]
    }
   ],
   "source": [
    "sess = tf.Session()\n",
    "sess.run(tf.global_variables_initializer())\n",
    "\n",
    "for i in range(1, 5001):\n",
    "    sess.run(train, feed_dict = {x : xData, y : yData})\n",
    "    if i % 500 == 0:\n",
    "        # {1:13.2f} : format으로 입력되는 두번째 값은 13자리, 소숫점 2자리까지 출력해줘라!\n",
    "        print(\"{0:4d} {1:13.2f} {2:10.3f} {3:10.3f}\".format(i, sess.run(cost, feed_dict = {x : xData, y : yData}), sess.run(a)[0], sess.run(b)[0]))\n",
    "\n",
    "for i in range(8, 25):\n",
    "    # {1:,.1f} format으로 입력되는 두번째 값은 소수점 한자리까지 표현 (포맷)\n",
    "    print(\"{0:2d}시간 노동을 했을 떄 하루 매출 기대액 : {1:,.1f}원\".format(i, sess.run(Y, feed_dict = {x : [i]})[0]))"
   ]
  },
  {
   "cell_type": "code",
   "execution_count": null,
   "metadata": {},
   "outputs": [],
   "source": []
  }
 ],
 "metadata": {
  "kernelspec": {
   "display_name": "Python 3",
   "language": "python",
   "name": "python3"
  },
  "language_info": {
   "codemirror_mode": {
    "name": "ipython",
    "version": 3
   },
   "file_extension": ".py",
   "mimetype": "text/x-python",
   "name": "python",
   "nbconvert_exporter": "python",
   "pygments_lexer": "ipython3",
   "version": "3.8.5"
  }
 },
 "nbformat": 4,
 "nbformat_minor": 4
}

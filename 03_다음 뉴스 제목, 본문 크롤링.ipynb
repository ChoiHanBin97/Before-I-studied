{
 "cells": [
  {
   "cell_type": "markdown",
   "metadata": {},
   "source": [
    "### 다음 뉴스 제목, 본문 크롤링\n",
    "\n",
    "- https://news.v.daum.net/v/20200911181655276\n",
    "- https://news.v.daum.net/v/20200911190010102"
   ]
  },
  {
   "cell_type": "code",
   "execution_count": 1,
   "metadata": {},
   "outputs": [],
   "source": [
    "import requests\n",
    "from bs4 import BeautifulSoup"
   ]
  },
  {
   "cell_type": "code",
   "execution_count": 6,
   "metadata": {},
   "outputs": [],
   "source": [
    "def get_daum_news_title(news_id):\n",
    "    url = 'https://news.v.daum.net/v/{}'.format(news_id)\n",
    "    resp = requests.get(url)\n",
    "    soup = BeautifulSoup(resp.text)\n",
    "    title_tag = soup.select_one('h3.tit_view')\n",
    "    if title_tag:\n",
    "        return title_tag.get_text()\n",
    "    else: return \"\""
   ]
  },
  {
   "cell_type": "code",
   "execution_count": 8,
   "metadata": {},
   "outputs": [
    {
     "data": {
      "text/plain": [
       "'\"CP에 통신 품질 책임 묻는 건 신중해야\" 또 페북 손 들어준 법원'"
      ]
     },
     "execution_count": 8,
     "metadata": {},
     "output_type": "execute_result"
    }
   ],
   "source": [
    "get_daum_news_title(20200911181655276)"
   ]
  },
  {
   "cell_type": "markdown",
   "metadata": {},
   "source": [
    "### 과제\n",
    "- 기사 번호를 전달하면 본문 내용이 출력되는 함수 만들기"
   ]
  },
  {
   "cell_type": "code",
   "execution_count": 21,
   "metadata": {},
   "outputs": [
    {
     "name": "stdout",
     "output_type": "stream",
     "text": [
      "\n",
      "최근 한반도를 잇따라 휩쓸고 간 대형태풍이 발생한 이유가 북태평양 필리핀 주변 바닷물의 온도가 올랐기 때문으로 나타났다.\n",
      "한국해양과학기술원은 북태평양 해역을 조사한 결과 최근 대형태풍 발달이 이 수역의 표층 온도가 지난해보다 높고 수심 50m 깊이까지 고수온층이 만들어졌기 때문이라고 이달 11일 밝혔다. 최근 한반도를 휩쓴 9호 태풍 마이삭과 10호 태풍 하이선이 대형태풍으로 커진 것도 이곳과 밀접한 관련이 있다는 해석이다.\n",
      "태풍은 열이 해양에서 대기로 이동하면서 생긴다. 바다 표면 온도가 26도 이상이면 대기가 바다로부터 따뜻한 수증기를 공급받아 열대 저기압을 만든다. 이 상태가 계속되면 태풍이 발생한다. 태풍은 고위도로 이동하면서 고수온 물이 많은 따뜻한 소용돌이를 만나거나 난류인 쿠로시오 해류를 통과하면서 급격히 강해지기도 한다. 중심에서 초속 15m 이상 바람이 불고 강풍 반경이 최대 800km에 달하는 대형 태풍으로 성장하는 것이다.\n",
      "\n",
      "연구팀은 태풍이 하루 새 초속 15m 이상 세력으로 강해지는 ‘급강화’ 현상을 연구하기 위해 지난달 해양조사선 ‘이사부호’를 타고 북서태평양 해역에 나가 55개 지점에서 수온과 염분을 조사했다. 해양과 기상센서를 채운 파랑글라이더와 표층뜰개, 수심별 수온과 염분을 측정하는 부유승강로봇이 투입됐다.\n",
      "그 결과 올해 필리핀 해역의 수심 50m 깊이까지의 온도가 지난 3년간 8월과 9월 평균 수온보다 1도 높았던 것으로 나타났다. 해양환경이 평소보다 태풍이 발생하기 좋은 조건이었다는 것이다. 마이삭이 통과한 후에도 상층 수온은 30도 이상을 유지한 것으로 나타났다. 상층 고수온 현상이 이어지면 태풍의 발생빈도가 잦아지거나 강도가 강해지게 된다.\n",
      "\n",
      "2018년과 지난해 가장 강력한 태풍이었던 망쿳과 하기비스가 발생했을 때도 이 해역에서 고수온 현상이 나타났다. 하이선 역시 이 영향을 받으며 대형태풍으로 세력이 확장됐다. 연구팀은 “태풍 발생 연구와 일기예측 정확도를 높이기 위해서는 해양열에너지나 수온 등 해양상태를 면밀히 관찰해야 한다”고 설명했다.\n",
      "김웅서 해양과기원 원장은 “예기치 못한 자연재해와 해양사고 등에 대비하기 위해 한반도 및 인근 해역에서 발생하는 해양환경 변화를 주시해야 한다”며, “앞으로도 해양과기원의 인프라로 한국 주변에서 일어나는 해양기후변화를 관찰해 안전한 대한민국을 만드는데 앞장서겠다”고 말했다.\n",
      "[조승한 기자 shinjsh@donga.com]\n"
     ]
    }
   ],
   "source": [
    "# section, p\n",
    "\n",
    "def get_daum_news_contents(news_id):\n",
    "    url = 'https://news.v.daum.net/v/{}'.format(news_id)\n",
    "    request = requests.get(url)\n",
    "    soup = BeautifulSoup(request.text, 'html.parser')\n",
    "    contents = soup.select('section p')\n",
    "    for i in range(len(contents)):\n",
    "        print(contents[i].text.strip())\n",
    "\n",
    "get_daum_news_contents(20200911190010102)"
   ]
  },
  {
   "cell_type": "code",
   "execution_count": null,
   "metadata": {},
   "outputs": [],
   "source": []
  }
 ],
 "metadata": {
  "kernelspec": {
   "display_name": "Python 3",
   "language": "python",
   "name": "python3"
  },
  "language_info": {
   "codemirror_mode": {
    "name": "ipython",
    "version": 3
   },
   "file_extension": ".py",
   "mimetype": "text/x-python",
   "name": "python",
   "nbconvert_exporter": "python",
   "pygments_lexer": "ipython3",
   "version": "3.8.5"
  }
 },
 "nbformat": 4,
 "nbformat_minor": 4
}

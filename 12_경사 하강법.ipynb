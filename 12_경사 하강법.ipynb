{
 "cells": [
  {
   "cell_type": "raw",
   "metadata": {},
   "source": [
    "### 경사 하강법(Gradient Descent)\n",
    "경사 하강법은 많은 머신러닝 및 딥러닝 알고리즘을 훈련시킬 때 사용하는 방법입니다. 기울기를 너무 크게 잡으면 오차가 커지고 기울기를 너무 작게 잡아도 오차가 커집니다. 기울기를 무한대로 키우면 오차도 무한대로 늘어나고 기울기를 무한대로 작게해도 오차는 무한대로 늘어납니다. 따라서 가장 적절한 기울기와 y절편을 구하도록 하는 방법입니다."
   ]
  },
  {
   "cell_type": "code",
   "execution_count": 2,
   "metadata": {},
   "outputs": [],
   "source": [
    "import tensorflow.compat.v1 as tf\n",
    "tf.disable_v2_behavior()"
   ]
  },
  {
   "cell_type": "code",
   "execution_count": 3,
   "metadata": {},
   "outputs": [
    {
     "name": "stdout",
     "output_type": "stream",
     "text": [
      "[2, 4, 6, 8]\n",
      "[81, 93, 91, 97]\n"
     ]
    }
   ],
   "source": [
    "data = [[2, 81], [4, 93], [6, 91], [8, 97]]\n",
    "xData = [i[0] for i in data]\n",
    "yData = [i[1] for i in data]\n",
    "print(xData)\n",
    "print(yData)"
   ]
  },
  {
   "cell_type": "code",
   "execution_count": 5,
   "metadata": {},
   "outputs": [
    {
     "name": "stdout",
     "output_type": "stream",
     "text": [
      "a=[4.1718283], b=[32.13713]\n"
     ]
    }
   ],
   "source": [
    "a = tf.Variable(tf.random_uniform([1], 0, 10, dtype=tf.float32))\n",
    "b = tf.Variable(tf.random_uniform([1], 0, 100, dtype=tf.float32))\n",
    "sess = tf.Session()\n",
    "sess.run(tf.global_variables_initializer())\n",
    "print('a={}, b={}'.format(sess.run(a), sess.run(b)))"
   ]
  },
  {
   "cell_type": "code",
   "execution_count": 6,
   "metadata": {},
   "outputs": [],
   "source": [
    "# 예측 성적(y)를 얻기 위한 방정식을 세웁니다.\n",
    "y = a * xData + b\n",
    "\n",
    "# tensorflow에서 실행할 RMSE(평균 제곱근 오차) 수식을 만듭니다. -> 오차(비용)함수\n",
    "rmse = tf.sqrt(tf.reduce_mean(tf.square(y - yData)))"
   ]
  },
  {
   "cell_type": "code",
   "execution_count": 7,
   "metadata": {},
   "outputs": [],
   "source": [
    "# 경사 하강법을 이용해서 RMSE를 최소로 하는 값을 찾는 수식을 만듭니다.\n",
    "gradient_descent = tf.train.GradientDescentOptimizer(0.1).minimize(rmse)"
   ]
  },
  {
   "cell_type": "code",
   "execution_count": 8,
   "metadata": {},
   "outputs": [
    {
     "name": "stdout",
     "output_type": "stream",
     "text": [
      "count :    0, RMSE : 41.0283, 기울기 :  8.6963, y절편 : 85.3649\n",
      "count :  100, RMSE :  3.1865, 기울기 :  1.7412, y절편 : 82.3347\n",
      "count :  200, RMSE :  2.9906, 기울기 :  1.9707, y절편 : 80.9649\n",
      "count :  300, RMSE :  2.9178, 기울기 :  2.1103, y절편 : 80.1320\n",
      "count :  400, RMSE :  2.8930, 기울기 :  2.1916, y절편 : 79.6466\n",
      "count :  500, RMSE :  2.8849, 기울기 :  2.2383, y절편 : 79.3683\n",
      "count :  600, RMSE :  2.8822, 기울기 :  2.2649, y절편 : 79.2096\n",
      "count :  700, RMSE :  2.8814, 기울기 :  2.2800, y절편 : 79.1192\n",
      "count :  800, RMSE :  2.8811, 기울기 :  2.2886, y절편 : 79.0678\n",
      "count :  900, RMSE :  2.8810, 기울기 :  2.2935, y절편 : 79.0386\n",
      "count : 1000, RMSE :  2.8810, 기울기 :  2.2963, y절편 : 79.0219\n",
      "count : 1100, RMSE :  2.8810, 기울기 :  2.2979, y절편 : 79.0125\n",
      "count : 1200, RMSE :  2.8810, 기울기 :  2.2988, y절편 : 79.0071\n",
      "count : 1300, RMSE :  2.8810, 기울기 :  2.2993, y절편 : 79.0041\n",
      "count : 1400, RMSE :  2.8810, 기울기 :  2.2996, y절편 : 79.0023\n",
      "count : 1500, RMSE :  2.8810, 기울기 :  2.2998, y절편 : 79.0014\n",
      "count : 1600, RMSE :  2.8810, 기울기 :  2.2999, y절편 : 79.0007\n",
      "count : 1700, RMSE :  2.8810, 기울기 :  2.2999, y절편 : 79.0006\n",
      "count : 1800, RMSE :  2.8810, 기울기 :  2.2999, y절편 : 79.0006\n",
      "count : 1900, RMSE :  2.8810, 기울기 :  2.2999, y절편 : 79.0006\n",
      "count : 2000, RMSE :  2.8810, 기울기 :  2.2999, y절편 : 79.0006\n",
      "count : 2100, RMSE :  2.8810, 기울기 :  2.2999, y절편 : 79.0006\n",
      "count : 2200, RMSE :  2.8810, 기울기 :  2.2999, y절편 : 79.0006\n",
      "count : 2300, RMSE :  2.8810, 기울기 :  2.2999, y절편 : 79.0006\n",
      "count : 2400, RMSE :  2.8810, 기울기 :  2.2999, y절편 : 79.0006\n",
      "count : 2500, RMSE :  2.8810, 기울기 :  2.2999, y절편 : 79.0006\n",
      "count : 2600, RMSE :  2.8810, 기울기 :  2.2999, y절편 : 79.0006\n",
      "count : 2700, RMSE :  2.8810, 기울기 :  2.2999, y절편 : 79.0006\n",
      "count : 2800, RMSE :  2.8810, 기울기 :  2.2999, y절편 : 79.0006\n",
      "count : 2900, RMSE :  2.8810, 기울기 :  2.2999, y절편 : 79.0006\n",
      "count : 3000, RMSE :  2.8810, 기울기 :  2.2999, y절편 : 79.0006\n",
      "count : 3100, RMSE :  2.8810, 기울기 :  2.2999, y절편 : 79.0006\n",
      "count : 3200, RMSE :  2.8810, 기울기 :  2.2999, y절편 : 79.0006\n",
      "count : 3300, RMSE :  2.8810, 기울기 :  2.2999, y절편 : 79.0006\n",
      "count : 3400, RMSE :  2.8810, 기울기 :  2.2999, y절편 : 79.0006\n",
      "count : 3500, RMSE :  2.8810, 기울기 :  2.2999, y절편 : 79.0006\n",
      "count : 3600, RMSE :  2.8810, 기울기 :  2.2999, y절편 : 79.0006\n",
      "count : 3700, RMSE :  2.8810, 기울기 :  2.2999, y절편 : 79.0006\n",
      "count : 3800, RMSE :  2.8810, 기울기 :  2.2999, y절편 : 79.0006\n",
      "count : 3900, RMSE :  2.8810, 기울기 :  2.2999, y절편 : 79.0006\n",
      "count : 4000, RMSE :  2.8810, 기울기 :  2.2999, y절편 : 79.0006\n"
     ]
    }
   ],
   "source": [
    "import time\n",
    "\n",
    "with tf.Session() as sess:\n",
    "    sess.run(tf.global_variables_initializer())\n",
    "    for i in range(4001):\n",
    "        sess.run(gradient_descent)\n",
    "        if i % 100 == 0:\n",
    "            print('count : %4d, RMSE : %7.4f, 기울기 : %7.4f, y절편 : %7.4f' % (i, sess.run(rmse), sess.run(a), sess.run(b)))\n",
    "            time.sleep(0.5)"
   ]
  }
 ],
 "metadata": {
  "kernelspec": {
   "display_name": "Python 3",
   "language": "python",
   "name": "python3"
  },
  "language_info": {
   "codemirror_mode": {
    "name": "ipython",
    "version": 3
   },
   "file_extension": ".py",
   "mimetype": "text/x-python",
   "name": "python",
   "nbconvert_exporter": "python",
   "pygments_lexer": "ipython3",
   "version": "3.8.5"
  }
 },
 "nbformat": 4,
 "nbformat_minor": 4
}
